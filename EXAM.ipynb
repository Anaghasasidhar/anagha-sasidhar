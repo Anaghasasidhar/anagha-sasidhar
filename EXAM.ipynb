{
 "cells": [
  {
   "cell_type": "code",
   "execution_count": 1,
   "id": "8ebd0698",
   "metadata": {},
   "outputs": [],
   "source": [
    "#Import Libraries\n",
    "import pandas as pd\n",
    "import numpy as np\n",
    "import matplotlib.pyplot as plt\n",
    "import seaborn as sns\n",
    "import warnings\n",
    "warnings.filterwarnings(\"ignore\")"
   ]
  },
  {
   "cell_type": "code",
   "execution_count": 2,
   "id": "b800483a",
   "metadata": {},
   "outputs": [],
   "source": [
    "data = pd.read_csv('data_car.csv')"
   ]
  },
  {
   "cell_type": "markdown",
   "id": "b76c102d",
   "metadata": {},
   "source": [
    "# EXPLORATORY DATA ANALYSIS"
   ]
  },
  {
   "cell_type": "code",
   "execution_count": 3,
   "id": "fc5f5193",
   "metadata": {},
   "outputs": [
    {
     "data": {
      "text/html": [
       "<div>\n",
       "<style scoped>\n",
       "    .dataframe tbody tr th:only-of-type {\n",
       "        vertical-align: middle;\n",
       "    }\n",
       "\n",
       "    .dataframe tbody tr th {\n",
       "        vertical-align: top;\n",
       "    }\n",
       "\n",
       "    .dataframe thead th {\n",
       "        text-align: right;\n",
       "    }\n",
       "</style>\n",
       "<table border=\"1\" class=\"dataframe\">\n",
       "  <thead>\n",
       "    <tr style=\"text-align: right;\">\n",
       "      <th></th>\n",
       "      <th>Make</th>\n",
       "      <th>Model</th>\n",
       "      <th>Year</th>\n",
       "      <th>Engine Fuel Type</th>\n",
       "      <th>Engine HP</th>\n",
       "      <th>Engine Cylinders</th>\n",
       "      <th>Transmission Type</th>\n",
       "      <th>Driven_Wheels</th>\n",
       "      <th>Number of Doors</th>\n",
       "      <th>Market Category</th>\n",
       "      <th>Vehicle Size</th>\n",
       "      <th>Vehicle Style</th>\n",
       "      <th>highway MPG</th>\n",
       "      <th>city mpg</th>\n",
       "      <th>Popularity</th>\n",
       "      <th>MSRP</th>\n",
       "    </tr>\n",
       "  </thead>\n",
       "  <tbody>\n",
       "    <tr>\n",
       "      <th>0</th>\n",
       "      <td>BMW</td>\n",
       "      <td>1 Series M</td>\n",
       "      <td>2011</td>\n",
       "      <td>premium unleaded (required)</td>\n",
       "      <td>335.0</td>\n",
       "      <td>6.0</td>\n",
       "      <td>MANUAL</td>\n",
       "      <td>rear wheel drive</td>\n",
       "      <td>2.0</td>\n",
       "      <td>Factory Tuner,Luxury,High-Performance</td>\n",
       "      <td>Compact</td>\n",
       "      <td>Coupe</td>\n",
       "      <td>26</td>\n",
       "      <td>19</td>\n",
       "      <td>3916</td>\n",
       "      <td>46135</td>\n",
       "    </tr>\n",
       "    <tr>\n",
       "      <th>1</th>\n",
       "      <td>BMW</td>\n",
       "      <td>1 Series</td>\n",
       "      <td>2011</td>\n",
       "      <td>premium unleaded (required)</td>\n",
       "      <td>300.0</td>\n",
       "      <td>6.0</td>\n",
       "      <td>MANUAL</td>\n",
       "      <td>rear wheel drive</td>\n",
       "      <td>2.0</td>\n",
       "      <td>Luxury,Performance</td>\n",
       "      <td>Compact</td>\n",
       "      <td>Convertible</td>\n",
       "      <td>28</td>\n",
       "      <td>19</td>\n",
       "      <td>3916</td>\n",
       "      <td>40650</td>\n",
       "    </tr>\n",
       "    <tr>\n",
       "      <th>2</th>\n",
       "      <td>BMW</td>\n",
       "      <td>1 Series</td>\n",
       "      <td>2011</td>\n",
       "      <td>premium unleaded (required)</td>\n",
       "      <td>300.0</td>\n",
       "      <td>6.0</td>\n",
       "      <td>MANUAL</td>\n",
       "      <td>rear wheel drive</td>\n",
       "      <td>2.0</td>\n",
       "      <td>Luxury,High-Performance</td>\n",
       "      <td>Compact</td>\n",
       "      <td>Coupe</td>\n",
       "      <td>28</td>\n",
       "      <td>20</td>\n",
       "      <td>3916</td>\n",
       "      <td>36350</td>\n",
       "    </tr>\n",
       "    <tr>\n",
       "      <th>3</th>\n",
       "      <td>BMW</td>\n",
       "      <td>1 Series</td>\n",
       "      <td>2011</td>\n",
       "      <td>premium unleaded (required)</td>\n",
       "      <td>230.0</td>\n",
       "      <td>6.0</td>\n",
       "      <td>MANUAL</td>\n",
       "      <td>rear wheel drive</td>\n",
       "      <td>2.0</td>\n",
       "      <td>Luxury,Performance</td>\n",
       "      <td>Compact</td>\n",
       "      <td>Coupe</td>\n",
       "      <td>28</td>\n",
       "      <td>18</td>\n",
       "      <td>3916</td>\n",
       "      <td>29450</td>\n",
       "    </tr>\n",
       "    <tr>\n",
       "      <th>4</th>\n",
       "      <td>BMW</td>\n",
       "      <td>1 Series</td>\n",
       "      <td>2011</td>\n",
       "      <td>premium unleaded (required)</td>\n",
       "      <td>230.0</td>\n",
       "      <td>6.0</td>\n",
       "      <td>MANUAL</td>\n",
       "      <td>rear wheel drive</td>\n",
       "      <td>2.0</td>\n",
       "      <td>Luxury</td>\n",
       "      <td>Compact</td>\n",
       "      <td>Convertible</td>\n",
       "      <td>28</td>\n",
       "      <td>18</td>\n",
       "      <td>3916</td>\n",
       "      <td>34500</td>\n",
       "    </tr>\n",
       "  </tbody>\n",
       "</table>\n",
       "</div>"
      ],
      "text/plain": [
       "  Make       Model  Year             Engine Fuel Type  Engine HP  \\\n",
       "0  BMW  1 Series M  2011  premium unleaded (required)      335.0   \n",
       "1  BMW    1 Series  2011  premium unleaded (required)      300.0   \n",
       "2  BMW    1 Series  2011  premium unleaded (required)      300.0   \n",
       "3  BMW    1 Series  2011  premium unleaded (required)      230.0   \n",
       "4  BMW    1 Series  2011  premium unleaded (required)      230.0   \n",
       "\n",
       "   Engine Cylinders Transmission Type     Driven_Wheels  Number of Doors  \\\n",
       "0               6.0            MANUAL  rear wheel drive              2.0   \n",
       "1               6.0            MANUAL  rear wheel drive              2.0   \n",
       "2               6.0            MANUAL  rear wheel drive              2.0   \n",
       "3               6.0            MANUAL  rear wheel drive              2.0   \n",
       "4               6.0            MANUAL  rear wheel drive              2.0   \n",
       "\n",
       "                         Market Category Vehicle Size Vehicle Style  \\\n",
       "0  Factory Tuner,Luxury,High-Performance      Compact         Coupe   \n",
       "1                     Luxury,Performance      Compact   Convertible   \n",
       "2                Luxury,High-Performance      Compact         Coupe   \n",
       "3                     Luxury,Performance      Compact         Coupe   \n",
       "4                                 Luxury      Compact   Convertible   \n",
       "\n",
       "   highway MPG  city mpg  Popularity   MSRP  \n",
       "0           26        19        3916  46135  \n",
       "1           28        19        3916  40650  \n",
       "2           28        20        3916  36350  \n",
       "3           28        18        3916  29450  \n",
       "4           28        18        3916  34500  "
      ]
     },
     "execution_count": 3,
     "metadata": {},
     "output_type": "execute_result"
    }
   ],
   "source": [
    "data.head()"
   ]
  },
  {
   "cell_type": "code",
   "execution_count": 4,
   "id": "78009ef6",
   "metadata": {},
   "outputs": [
    {
     "data": {
      "text/plain": [
       "(11914, 16)"
      ]
     },
     "execution_count": 4,
     "metadata": {},
     "output_type": "execute_result"
    }
   ],
   "source": [
    "data.shape"
   ]
  },
  {
   "cell_type": "code",
   "execution_count": 5,
   "id": "2b57a1a1",
   "metadata": {},
   "outputs": [
    {
     "name": "stdout",
     "output_type": "stream",
     "text": [
      "<class 'pandas.core.frame.DataFrame'>\n",
      "RangeIndex: 11914 entries, 0 to 11913\n",
      "Data columns (total 16 columns):\n",
      " #   Column             Non-Null Count  Dtype  \n",
      "---  ------             --------------  -----  \n",
      " 0   Make               11914 non-null  object \n",
      " 1   Model              11914 non-null  object \n",
      " 2   Year               11914 non-null  int64  \n",
      " 3   Engine Fuel Type   11911 non-null  object \n",
      " 4   Engine HP          11845 non-null  float64\n",
      " 5   Engine Cylinders   11884 non-null  float64\n",
      " 6   Transmission Type  11914 non-null  object \n",
      " 7   Driven_Wheels      11914 non-null  object \n",
      " 8   Number of Doors    11908 non-null  float64\n",
      " 9   Market Category    8172 non-null   object \n",
      " 10  Vehicle Size       11914 non-null  object \n",
      " 11  Vehicle Style      11914 non-null  object \n",
      " 12  highway MPG        11914 non-null  int64  \n",
      " 13  city mpg           11914 non-null  int64  \n",
      " 14  Popularity         11914 non-null  int64  \n",
      " 15  MSRP               11914 non-null  int64  \n",
      "dtypes: float64(3), int64(5), object(8)\n",
      "memory usage: 1.5+ MB\n"
     ]
    }
   ],
   "source": [
    "data.info()"
   ]
  },
  {
   "cell_type": "code",
   "execution_count": 6,
   "id": "59eb4ad1",
   "metadata": {},
   "outputs": [
    {
     "data": {
      "text/html": [
       "<div>\n",
       "<style scoped>\n",
       "    .dataframe tbody tr th:only-of-type {\n",
       "        vertical-align: middle;\n",
       "    }\n",
       "\n",
       "    .dataframe tbody tr th {\n",
       "        vertical-align: top;\n",
       "    }\n",
       "\n",
       "    .dataframe thead th {\n",
       "        text-align: right;\n",
       "    }\n",
       "</style>\n",
       "<table border=\"1\" class=\"dataframe\">\n",
       "  <thead>\n",
       "    <tr style=\"text-align: right;\">\n",
       "      <th></th>\n",
       "      <th>Year</th>\n",
       "      <th>Engine HP</th>\n",
       "      <th>Engine Cylinders</th>\n",
       "      <th>Number of Doors</th>\n",
       "      <th>highway MPG</th>\n",
       "      <th>city mpg</th>\n",
       "      <th>Popularity</th>\n",
       "      <th>MSRP</th>\n",
       "    </tr>\n",
       "  </thead>\n",
       "  <tbody>\n",
       "    <tr>\n",
       "      <th>count</th>\n",
       "      <td>11914.000000</td>\n",
       "      <td>11845.00000</td>\n",
       "      <td>11884.000000</td>\n",
       "      <td>11908.000000</td>\n",
       "      <td>11914.000000</td>\n",
       "      <td>11914.000000</td>\n",
       "      <td>11914.000000</td>\n",
       "      <td>1.191400e+04</td>\n",
       "    </tr>\n",
       "    <tr>\n",
       "      <th>mean</th>\n",
       "      <td>2010.384338</td>\n",
       "      <td>249.38607</td>\n",
       "      <td>5.628829</td>\n",
       "      <td>3.436093</td>\n",
       "      <td>26.637485</td>\n",
       "      <td>19.733255</td>\n",
       "      <td>1554.911197</td>\n",
       "      <td>4.059474e+04</td>\n",
       "    </tr>\n",
       "    <tr>\n",
       "      <th>std</th>\n",
       "      <td>7.579740</td>\n",
       "      <td>109.19187</td>\n",
       "      <td>1.780559</td>\n",
       "      <td>0.881315</td>\n",
       "      <td>8.863001</td>\n",
       "      <td>8.987798</td>\n",
       "      <td>1441.855347</td>\n",
       "      <td>6.010910e+04</td>\n",
       "    </tr>\n",
       "    <tr>\n",
       "      <th>min</th>\n",
       "      <td>1990.000000</td>\n",
       "      <td>55.00000</td>\n",
       "      <td>0.000000</td>\n",
       "      <td>2.000000</td>\n",
       "      <td>12.000000</td>\n",
       "      <td>7.000000</td>\n",
       "      <td>2.000000</td>\n",
       "      <td>2.000000e+03</td>\n",
       "    </tr>\n",
       "    <tr>\n",
       "      <th>25%</th>\n",
       "      <td>2007.000000</td>\n",
       "      <td>170.00000</td>\n",
       "      <td>4.000000</td>\n",
       "      <td>2.000000</td>\n",
       "      <td>22.000000</td>\n",
       "      <td>16.000000</td>\n",
       "      <td>549.000000</td>\n",
       "      <td>2.100000e+04</td>\n",
       "    </tr>\n",
       "    <tr>\n",
       "      <th>50%</th>\n",
       "      <td>2015.000000</td>\n",
       "      <td>227.00000</td>\n",
       "      <td>6.000000</td>\n",
       "      <td>4.000000</td>\n",
       "      <td>26.000000</td>\n",
       "      <td>18.000000</td>\n",
       "      <td>1385.000000</td>\n",
       "      <td>2.999500e+04</td>\n",
       "    </tr>\n",
       "    <tr>\n",
       "      <th>75%</th>\n",
       "      <td>2016.000000</td>\n",
       "      <td>300.00000</td>\n",
       "      <td>6.000000</td>\n",
       "      <td>4.000000</td>\n",
       "      <td>30.000000</td>\n",
       "      <td>22.000000</td>\n",
       "      <td>2009.000000</td>\n",
       "      <td>4.223125e+04</td>\n",
       "    </tr>\n",
       "    <tr>\n",
       "      <th>max</th>\n",
       "      <td>2017.000000</td>\n",
       "      <td>1001.00000</td>\n",
       "      <td>16.000000</td>\n",
       "      <td>4.000000</td>\n",
       "      <td>354.000000</td>\n",
       "      <td>137.000000</td>\n",
       "      <td>5657.000000</td>\n",
       "      <td>2.065902e+06</td>\n",
       "    </tr>\n",
       "  </tbody>\n",
       "</table>\n",
       "</div>"
      ],
      "text/plain": [
       "               Year    Engine HP  Engine Cylinders  Number of Doors  \\\n",
       "count  11914.000000  11845.00000      11884.000000     11908.000000   \n",
       "mean    2010.384338    249.38607          5.628829         3.436093   \n",
       "std        7.579740    109.19187          1.780559         0.881315   \n",
       "min     1990.000000     55.00000          0.000000         2.000000   \n",
       "25%     2007.000000    170.00000          4.000000         2.000000   \n",
       "50%     2015.000000    227.00000          6.000000         4.000000   \n",
       "75%     2016.000000    300.00000          6.000000         4.000000   \n",
       "max     2017.000000   1001.00000         16.000000         4.000000   \n",
       "\n",
       "        highway MPG      city mpg    Popularity          MSRP  \n",
       "count  11914.000000  11914.000000  11914.000000  1.191400e+04  \n",
       "mean      26.637485     19.733255   1554.911197  4.059474e+04  \n",
       "std        8.863001      8.987798   1441.855347  6.010910e+04  \n",
       "min       12.000000      7.000000      2.000000  2.000000e+03  \n",
       "25%       22.000000     16.000000    549.000000  2.100000e+04  \n",
       "50%       26.000000     18.000000   1385.000000  2.999500e+04  \n",
       "75%       30.000000     22.000000   2009.000000  4.223125e+04  \n",
       "max      354.000000    137.000000   5657.000000  2.065902e+06  "
      ]
     },
     "execution_count": 6,
     "metadata": {},
     "output_type": "execute_result"
    }
   ],
   "source": [
    "data.describe()"
   ]
  },
  {
   "cell_type": "code",
   "execution_count": 7,
   "id": "bf5fb423",
   "metadata": {},
   "outputs": [
    {
     "data": {
      "text/plain": [
       "Chevrolet        1123\n",
       "Ford              881\n",
       "Volkswagen        809\n",
       "Toyota            746\n",
       "Dodge             626\n",
       "Nissan            558\n",
       "GMC               515\n",
       "Honda             449\n",
       "Mazda             423\n",
       "Cadillac          397\n",
       "Mercedes-Benz     353\n",
       "Suzuki            351\n",
       "BMW               334\n",
       "Infiniti          330\n",
       "Audi              328\n",
       "Hyundai           303\n",
       "Volvo             281\n",
       "Subaru            256\n",
       "Acura             252\n",
       "Kia               231\n",
       "Mitsubishi        213\n",
       "Lexus             202\n",
       "Buick             196\n",
       "Chrysler          187\n",
       "Pontiac           186\n",
       "Lincoln           164\n",
       "Oldsmobile        150\n",
       "Land Rover        143\n",
       "Porsche           136\n",
       "Saab              111\n",
       "Aston Martin       93\n",
       "Plymouth           82\n",
       "Bentley            74\n",
       "Ferrari            69\n",
       "FIAT               62\n",
       "Scion              60\n",
       "Maserati           58\n",
       "Lamborghini        52\n",
       "Rolls-Royce        31\n",
       "Lotus              29\n",
       "Tesla              18\n",
       "HUMMER             17\n",
       "Maybach            16\n",
       "Alfa Romeo          5\n",
       "McLaren             5\n",
       "Spyker              3\n",
       "Genesis             3\n",
       "Bugatti             3\n",
       "Name: Make, dtype: int64"
      ]
     },
     "execution_count": 7,
     "metadata": {},
     "output_type": "execute_result"
    }
   ],
   "source": [
    "data['Make'].value_counts()"
   ]
  },
  {
   "cell_type": "code",
   "execution_count": 8,
   "id": "50c7f700",
   "metadata": {},
   "outputs": [
    {
     "data": {
      "text/plain": [
       "Make                    0\n",
       "Model                   0\n",
       "Year                    0\n",
       "Engine Fuel Type        3\n",
       "Engine HP              69\n",
       "Engine Cylinders       30\n",
       "Transmission Type       0\n",
       "Driven_Wheels           0\n",
       "Number of Doors         6\n",
       "Market Category      3742\n",
       "Vehicle Size            0\n",
       "Vehicle Style           0\n",
       "highway MPG             0\n",
       "city mpg                0\n",
       "Popularity              0\n",
       "MSRP                    0\n",
       "dtype: int64"
      ]
     },
     "execution_count": 8,
     "metadata": {},
     "output_type": "execute_result"
    }
   ],
   "source": [
    "#checking null valuees\n",
    "data.isna().sum()"
   ]
  },
  {
   "cell_type": "code",
   "execution_count": 9,
   "id": "ac293164",
   "metadata": {},
   "outputs": [
    {
     "data": {
      "text/html": [
       "<div>\n",
       "<style scoped>\n",
       "    .dataframe tbody tr th:only-of-type {\n",
       "        vertical-align: middle;\n",
       "    }\n",
       "\n",
       "    .dataframe tbody tr th {\n",
       "        vertical-align: top;\n",
       "    }\n",
       "\n",
       "    .dataframe thead th {\n",
       "        text-align: right;\n",
       "    }\n",
       "</style>\n",
       "<table border=\"1\" class=\"dataframe\">\n",
       "  <thead>\n",
       "    <tr style=\"text-align: right;\">\n",
       "      <th></th>\n",
       "      <th>Percentage of null values</th>\n",
       "    </tr>\n",
       "  </thead>\n",
       "  <tbody>\n",
       "    <tr>\n",
       "      <th>Market Category</th>\n",
       "      <td>31.408427</td>\n",
       "    </tr>\n",
       "    <tr>\n",
       "      <th>Engine HP</th>\n",
       "      <td>0.579151</td>\n",
       "    </tr>\n",
       "    <tr>\n",
       "      <th>Engine Cylinders</th>\n",
       "      <td>0.251805</td>\n",
       "    </tr>\n",
       "    <tr>\n",
       "      <th>Number of Doors</th>\n",
       "      <td>0.050361</td>\n",
       "    </tr>\n",
       "    <tr>\n",
       "      <th>Engine Fuel Type</th>\n",
       "      <td>0.025180</td>\n",
       "    </tr>\n",
       "  </tbody>\n",
       "</table>\n",
       "</div>"
      ],
      "text/plain": [
       "                  Percentage of null values\n",
       "Market Category                   31.408427\n",
       "Engine HP                          0.579151\n",
       "Engine Cylinders                   0.251805\n",
       "Number of Doors                    0.050361\n",
       "Engine Fuel Type                   0.025180"
      ]
     },
     "execution_count": 9,
     "metadata": {},
     "output_type": "execute_result"
    }
   ],
   "source": [
    "# Identify percentage of null values\n",
    "null_percent = (data.isnull().sum()/data.shape[0])*100\n",
    "null_data_percent = null_percent[null_percent>0]\n",
    "null_data_percent = pd.DataFrame(null_data_percent,columns=['Percentage of null values'])\n",
    "null_data_percent.sort_values(by=['Percentage of null values'],ascending=False)"
   ]
  },
  {
   "cell_type": "code",
   "execution_count": 10,
   "id": "f911a334",
   "metadata": {},
   "outputs": [],
   "source": [
    "# Drop null values\n",
    "data.dropna(inplace=True)"
   ]
  },
  {
   "cell_type": "code",
   "execution_count": 11,
   "id": "01068e36",
   "metadata": {},
   "outputs": [
    {
     "data": {
      "text/plain": [
       "(8084, 16)"
      ]
     },
     "execution_count": 11,
     "metadata": {},
     "output_type": "execute_result"
    }
   ],
   "source": [
    "data.shape"
   ]
  },
  {
   "cell_type": "code",
   "execution_count": 12,
   "id": "05e57d46",
   "metadata": {},
   "outputs": [
    {
     "data": {
      "text/plain": [
       "<AxesSubplot:>"
      ]
     },
     "execution_count": 12,
     "metadata": {},
     "output_type": "execute_result"
    },
    {
     "data": {
      "image/png": "[encoded data removed]",
      "text/plain": [
       "<Figure size 2000x1000 with 2 Axes>"
      ]
     },
     "metadata": {},
     "output_type": "display_data"
    }
   ],
   "source": [
    "# Correlation heatmap\n",
    "plt.figure(figsize=(20,10))\n",
    "sns.heatmap(data.corr(), annot=True, cmap='viridis')"
   ]
  },
  {
   "cell_type": "markdown",
   "id": "2d79ef80",
   "metadata": {},
   "source": [
    "Typecasting"
   ]
  },
  {
   "cell_type": "code",
   "execution_count": 13,
   "id": "4507ce59",
   "metadata": {},
   "outputs": [],
   "source": [
    "cat_data=data.select_dtypes(include=['object'])"
   ]
  },
  {
   "cell_type": "code",
   "execution_count": 14,
   "id": "b4255739",
   "metadata": {},
   "outputs": [
    {
     "data": {
      "text/html": [
       "<div>\n",
       "<style scoped>\n",
       "    .dataframe tbody tr th:only-of-type {\n",
       "        vertical-align: middle;\n",
       "    }\n",
       "\n",
       "    .dataframe tbody tr th {\n",
       "        vertical-align: top;\n",
       "    }\n",
       "\n",
       "    .dataframe thead th {\n",
       "        text-align: right;\n",
       "    }\n",
       "</style>\n",
       "<table border=\"1\" class=\"dataframe\">\n",
       "  <thead>\n",
       "    <tr style=\"text-align: right;\">\n",
       "      <th></th>\n",
       "      <th>Year</th>\n",
       "      <th>Engine HP</th>\n",
       "      <th>Engine Cylinders</th>\n",
       "      <th>Number of Doors</th>\n",
       "      <th>highway MPG</th>\n",
       "      <th>city mpg</th>\n",
       "      <th>Popularity</th>\n",
       "      <th>MSRP</th>\n",
       "    </tr>\n",
       "  </thead>\n",
       "  <tbody>\n",
       "    <tr>\n",
       "      <th>0</th>\n",
       "      <td>2011</td>\n",
       "      <td>335.0</td>\n",
       "      <td>6.0</td>\n",
       "      <td>2.0</td>\n",
       "      <td>26</td>\n",
       "      <td>19</td>\n",
       "      <td>3916</td>\n",
       "      <td>46135</td>\n",
       "    </tr>\n",
       "    <tr>\n",
       "      <th>1</th>\n",
       "      <td>2011</td>\n",
       "      <td>300.0</td>\n",
       "      <td>6.0</td>\n",
       "      <td>2.0</td>\n",
       "      <td>28</td>\n",
       "      <td>19</td>\n",
       "      <td>3916</td>\n",
       "      <td>40650</td>\n",
       "    </tr>\n",
       "    <tr>\n",
       "      <th>2</th>\n",
       "      <td>2011</td>\n",
       "      <td>300.0</td>\n",
       "      <td>6.0</td>\n",
       "      <td>2.0</td>\n",
       "      <td>28</td>\n",
       "      <td>20</td>\n",
       "      <td>3916</td>\n",
       "      <td>36350</td>\n",
       "    </tr>\n",
       "    <tr>\n",
       "      <th>3</th>\n",
       "      <td>2011</td>\n",
       "      <td>230.0</td>\n",
       "      <td>6.0</td>\n",
       "      <td>2.0</td>\n",
       "      <td>28</td>\n",
       "      <td>18</td>\n",
       "      <td>3916</td>\n",
       "      <td>29450</td>\n",
       "    </tr>\n",
       "    <tr>\n",
       "      <th>4</th>\n",
       "      <td>2011</td>\n",
       "      <td>230.0</td>\n",
       "      <td>6.0</td>\n",
       "      <td>2.0</td>\n",
       "      <td>28</td>\n",
       "      <td>18</td>\n",
       "      <td>3916</td>\n",
       "      <td>34500</td>\n",
       "    </tr>\n",
       "  </tbody>\n",
       "</table>\n",
       "</div>"
      ],
      "text/plain": [
       "   Year  Engine HP  Engine Cylinders  Number of Doors  highway MPG  city mpg  \\\n",
       "0  2011      335.0               6.0              2.0           26        19   \n",
       "1  2011      300.0               6.0              2.0           28        19   \n",
       "2  2011      300.0               6.0              2.0           28        20   \n",
       "3  2011      230.0               6.0              2.0           28        18   \n",
       "4  2011      230.0               6.0              2.0           28        18   \n",
       "\n",
       "   Popularity   MSRP  \n",
       "0        3916  46135  \n",
       "1        3916  40650  \n",
       "2        3916  36350  \n",
       "3        3916  29450  \n",
       "4        3916  34500  "
      ]
     },
     "execution_count": 14,
     "metadata": {},
     "output_type": "execute_result"
    }
   ],
   "source": [
    "num_data=num_data=data.select_dtypes(include=['float64','int64'])\n",
    "num_data.head()"
   ]
  },
  {
   "cell_type": "code",
   "execution_count": 15,
   "id": "af01502c",
   "metadata": {},
   "outputs": [
    {
     "data": {
      "image/png": "[encoded data removed]",
      "text/plain": [
       "<Figure size 200x200 with 1 Axes>"
      ]
     },
     "metadata": {},
     "output_type": "display_data"
    },
    {
     "data": {
      "image/png": "[encoded data removed]",
      "text/plain": [
       "<Figure size 640x480 with 1 Axes>"
      ]
     },
     "metadata": {},
     "output_type": "display_data"
    },
    {
     "data": {
      "image/png": "[encoded data removed]",
      "text/plain": [
       "<Figure size 640x480 with 1 Axes>"
      ]
     },
     "metadata": {},
     "output_type": "display_data"
    },
    {
     "data": {
      "image/png": "[encoded data removed]",
      "text/plain": [
       "<Figure size 640x480 with 1 Axes>"
      ]
     },
     "metadata": {},
     "output_type": "display_data"
    },
    {
     "data": {
      "image/png": "[encoded data removed]",
      "text/plain": [
       "<Figure size 640x480 with 1 Axes>"
      ]
     },
     "metadata": {},
     "output_type": "display_data"
    },
    {
     "data": {
      "image/png": "[encoded data removed]",
      "text/plain": [
       "<Figure size 640x480 with 1 Axes>"
      ]
     },
     "metadata": {},
     "output_type": "display_data"
    },
    {
     "data": {
      "image/png": "[encoded data removed]",
      "text/plain": [
       "<Figure size 640x480 with 1 Axes>"
      ]
     },
     "metadata": {},
     "output_type": "display_data"
    },
    {
     "data": {
      "image/png": "[encoded data removed]",
      "text/plain": [
       "<Figure size 640x480 with 1 Axes>"
      ]
     },
     "metadata": {},
     "output_type": "display_data"
    }
   ],
   "source": [
    "#Distribution plot\n",
    "plt.figure(figsize=(2,2))\n",
    "for i in num_data:\n",
    "  sns.distplot(num_data[i])\n",
    "  plt.show()"
   ]
  },
  {
   "cell_type": "markdown",
   "id": "13adca3e",
   "metadata": {},
   "source": [
    "# BOXPLOT"
   ]
  },
  {
   "cell_type": "code",
   "execution_count": 16,
   "id": "4828c573",
   "metadata": {},
   "outputs": [
    {
     "data": {
      "image/png": "[encoded data removed]",
      "text/plain": [
       "<Figure size 640x480 with 1 Axes>"
      ]
     },
     "metadata": {},
     "output_type": "display_data"
    },
    {
     "data": {
      "image/png": "[encoded data removed]",
      "text/plain": [
       "<Figure size 640x480 with 1 Axes>"
      ]
     },
     "metadata": {},
     "output_type": "display_data"
    },
    {
     "data": {
      "image/png": "[encoded data removed]",
      "text/plain": [
       "<Figure size 640x480 with 1 Axes>"
      ]
     },
     "metadata": {},
     "output_type": "display_data"
    },
    {
     "data": {
      "image/png": "[encoded data removed]",
      "text/plain": [
       "<Figure size 640x480 with 1 Axes>"
      ]
     },
     "metadata": {},
     "output_type": "display_data"
    },
    {
     "data": {
      "image/png": "[encoded data removed]",
      "text/plain": [
       "<Figure size 640x480 with 1 Axes>"
      ]
     },
     "metadata": {},
     "output_type": "display_data"
    },
    {
     "data": {
      "image/png": "[encoded data removed]",
      "text/plain": [
       "<Figure size 640x480 with 1 Axes>"
      ]
     },
     "metadata": {},
     "output_type": "display_data"
    },
    {
     "data": {
      "image/png": "[encoded data removed]",
      "text/plain": [
       "<Figure size 640x480 with 1 Axes>"
      ]
     },
     "metadata": {},
     "output_type": "display_data"
    },
    {
     "data": {
      "image/png": "[encoded data removed]",
      "text/plain": [
       "<Figure size 640x480 with 1 Axes>"
      ]
     },
     "metadata": {},
     "output_type": "display_data"
    }
   ],
   "source": [
    "for i in num_data:\n",
    "  sns.boxplot(x=num_data[i])\n",
    "  plt.show()"
   ]
  },
  {
   "cell_type": "markdown",
   "id": "a163e6a5",
   "metadata": {},
   "source": [
    "DATA PREPROCESSING Outliers found in:year,Engine HP,Engine Cylinders,highway MPG,city mpg,popularity\n"
   ]
  },
  {
   "cell_type": "code",
   "execution_count": 17,
   "id": "a37e6bc0",
   "metadata": {},
   "outputs": [],
   "source": [
    "#Outlier removal Removing outlier using Interquartile range method"
   ]
  },
  {
   "cell_type": "code",
   "execution_count": 18,
   "id": "2a8e4da9",
   "metadata": {},
   "outputs": [],
   "source": [
    "from scipy import stats"
   ]
  },
  {
   "cell_type": "code",
   "execution_count": 19,
   "id": "3f33bc2d",
   "metadata": {},
   "outputs": [
    {
     "data": {
      "text/plain": [
       "2.0"
      ]
     },
     "execution_count": 19,
     "metadata": {},
     "output_type": "execute_result"
    }
   ],
   "source": [
    "# Calculate the IQR\n",
    "IQR =stats.iqr(data['Engine Cylinders'],interpolation='midpoint')\n",
    "IQR"
   ]
  },
  {
   "cell_type": "code",
   "execution_count": 20,
   "id": "2d98b024",
   "metadata": {},
   "outputs": [
    {
     "data": {
      "text/plain": [
       "(1.0, 9.0)"
      ]
     },
     "execution_count": 20,
     "metadata": {},
     "output_type": "execute_result"
    }
   ],
   "source": [
    "Q1=data['Engine Cylinders'].quantile(0.25)\n",
    "Q3=data['Engine Cylinders'].quantile(0.75)\n",
    "# Define the lower and upper thresholds\n",
    "min_limit=Q1-1.5*IQR\n",
    "max_limit=Q3+1.5*IQR\n",
    "min_limit,max_limit"
   ]
  },
  {
   "cell_type": "code",
   "execution_count": 21,
   "id": "16a073a5",
   "metadata": {},
   "outputs": [
    {
     "data": {
      "text/html": [
       "<div>\n",
       "<style scoped>\n",
       "    .dataframe tbody tr th:only-of-type {\n",
       "        vertical-align: middle;\n",
       "    }\n",
       "\n",
       "    .dataframe tbody tr th {\n",
       "        vertical-align: top;\n",
       "    }\n",
       "\n",
       "    .dataframe thead th {\n",
       "        text-align: right;\n",
       "    }\n",
       "</style>\n",
       "<table border=\"1\" class=\"dataframe\">\n",
       "  <thead>\n",
       "    <tr style=\"text-align: right;\">\n",
       "      <th></th>\n",
       "      <th>Make</th>\n",
       "      <th>Model</th>\n",
       "      <th>Year</th>\n",
       "      <th>Engine Fuel Type</th>\n",
       "      <th>Engine HP</th>\n",
       "      <th>Engine Cylinders</th>\n",
       "      <th>Transmission Type</th>\n",
       "      <th>Driven_Wheels</th>\n",
       "      <th>Number of Doors</th>\n",
       "      <th>Market Category</th>\n",
       "      <th>Vehicle Size</th>\n",
       "      <th>Vehicle Style</th>\n",
       "      <th>highway MPG</th>\n",
       "      <th>city mpg</th>\n",
       "      <th>Popularity</th>\n",
       "      <th>MSRP</th>\n",
       "    </tr>\n",
       "  </thead>\n",
       "  <tbody>\n",
       "    <tr>\n",
       "      <th>460</th>\n",
       "      <td>Ferrari</td>\n",
       "      <td>456M</td>\n",
       "      <td>2001</td>\n",
       "      <td>premium unleaded (required)</td>\n",
       "      <td>442.0</td>\n",
       "      <td>12.0</td>\n",
       "      <td>AUTOMATIC</td>\n",
       "      <td>rear wheel drive</td>\n",
       "      <td>2.0</td>\n",
       "      <td>Exotic,High-Performance</td>\n",
       "      <td>Compact</td>\n",
       "      <td>Coupe</td>\n",
       "      <td>14</td>\n",
       "      <td>9</td>\n",
       "      <td>2774</td>\n",
       "      <td>223970</td>\n",
       "    </tr>\n",
       "    <tr>\n",
       "      <th>461</th>\n",
       "      <td>Ferrari</td>\n",
       "      <td>456M</td>\n",
       "      <td>2001</td>\n",
       "      <td>premium unleaded (required)</td>\n",
       "      <td>442.0</td>\n",
       "      <td>12.0</td>\n",
       "      <td>MANUAL</td>\n",
       "      <td>rear wheel drive</td>\n",
       "      <td>2.0</td>\n",
       "      <td>Exotic,High-Performance</td>\n",
       "      <td>Compact</td>\n",
       "      <td>Coupe</td>\n",
       "      <td>15</td>\n",
       "      <td>9</td>\n",
       "      <td>2774</td>\n",
       "      <td>219775</td>\n",
       "    </tr>\n",
       "    <tr>\n",
       "      <th>462</th>\n",
       "      <td>Ferrari</td>\n",
       "      <td>456M</td>\n",
       "      <td>2002</td>\n",
       "      <td>premium unleaded (required)</td>\n",
       "      <td>442.0</td>\n",
       "      <td>12.0</td>\n",
       "      <td>AUTOMATIC</td>\n",
       "      <td>rear wheel drive</td>\n",
       "      <td>2.0</td>\n",
       "      <td>Exotic,High-Performance</td>\n",
       "      <td>Compact</td>\n",
       "      <td>Coupe</td>\n",
       "      <td>14</td>\n",
       "      <td>9</td>\n",
       "      <td>2774</td>\n",
       "      <td>228625</td>\n",
       "    </tr>\n",
       "    <tr>\n",
       "      <th>463</th>\n",
       "      <td>Ferrari</td>\n",
       "      <td>456M</td>\n",
       "      <td>2002</td>\n",
       "      <td>premium unleaded (required)</td>\n",
       "      <td>442.0</td>\n",
       "      <td>12.0</td>\n",
       "      <td>MANUAL</td>\n",
       "      <td>rear wheel drive</td>\n",
       "      <td>2.0</td>\n",
       "      <td>Exotic,High-Performance</td>\n",
       "      <td>Compact</td>\n",
       "      <td>Coupe</td>\n",
       "      <td>15</td>\n",
       "      <td>9</td>\n",
       "      <td>2774</td>\n",
       "      <td>224585</td>\n",
       "    </tr>\n",
       "    <tr>\n",
       "      <th>464</th>\n",
       "      <td>Ferrari</td>\n",
       "      <td>456M</td>\n",
       "      <td>2003</td>\n",
       "      <td>premium unleaded (required)</td>\n",
       "      <td>442.0</td>\n",
       "      <td>12.0</td>\n",
       "      <td>AUTOMATIC</td>\n",
       "      <td>rear wheel drive</td>\n",
       "      <td>2.0</td>\n",
       "      <td>Exotic,High-Performance</td>\n",
       "      <td>Compact</td>\n",
       "      <td>Coupe</td>\n",
       "      <td>14</td>\n",
       "      <td>9</td>\n",
       "      <td>2774</td>\n",
       "      <td>228625</td>\n",
       "    </tr>\n",
       "    <tr>\n",
       "      <th>...</th>\n",
       "      <td>...</td>\n",
       "      <td>...</td>\n",
       "      <td>...</td>\n",
       "      <td>...</td>\n",
       "      <td>...</td>\n",
       "      <td>...</td>\n",
       "      <td>...</td>\n",
       "      <td>...</td>\n",
       "      <td>...</td>\n",
       "      <td>...</td>\n",
       "      <td>...</td>\n",
       "      <td>...</td>\n",
       "      <td>...</td>\n",
       "      <td>...</td>\n",
       "      <td>...</td>\n",
       "      <td>...</td>\n",
       "    </tr>\n",
       "    <tr>\n",
       "      <th>11394</th>\n",
       "      <td>Aston Martin</td>\n",
       "      <td>Virage</td>\n",
       "      <td>2012</td>\n",
       "      <td>premium unleaded (required)</td>\n",
       "      <td>490.0</td>\n",
       "      <td>12.0</td>\n",
       "      <td>AUTOMATIC</td>\n",
       "      <td>rear wheel drive</td>\n",
       "      <td>2.0</td>\n",
       "      <td>Exotic,High-Performance</td>\n",
       "      <td>Midsize</td>\n",
       "      <td>Coupe</td>\n",
       "      <td>18</td>\n",
       "      <td>13</td>\n",
       "      <td>259</td>\n",
       "      <td>208295</td>\n",
       "    </tr>\n",
       "    <tr>\n",
       "      <th>11395</th>\n",
       "      <td>Aston Martin</td>\n",
       "      <td>Virage</td>\n",
       "      <td>2012</td>\n",
       "      <td>premium unleaded (required)</td>\n",
       "      <td>490.0</td>\n",
       "      <td>12.0</td>\n",
       "      <td>AUTOMATIC</td>\n",
       "      <td>rear wheel drive</td>\n",
       "      <td>2.0</td>\n",
       "      <td>Exotic,High-Performance</td>\n",
       "      <td>Midsize</td>\n",
       "      <td>Convertible</td>\n",
       "      <td>18</td>\n",
       "      <td>13</td>\n",
       "      <td>259</td>\n",
       "      <td>223295</td>\n",
       "    </tr>\n",
       "    <tr>\n",
       "      <th>11448</th>\n",
       "      <td>Rolls-Royce</td>\n",
       "      <td>Wraith</td>\n",
       "      <td>2014</td>\n",
       "      <td>premium unleaded (required)</td>\n",
       "      <td>624.0</td>\n",
       "      <td>12.0</td>\n",
       "      <td>AUTOMATIC</td>\n",
       "      <td>rear wheel drive</td>\n",
       "      <td>2.0</td>\n",
       "      <td>Exotic,Luxury,High-Performance</td>\n",
       "      <td>Large</td>\n",
       "      <td>Coupe</td>\n",
       "      <td>21</td>\n",
       "      <td>13</td>\n",
       "      <td>86</td>\n",
       "      <td>284900</td>\n",
       "    </tr>\n",
       "    <tr>\n",
       "      <th>11449</th>\n",
       "      <td>Rolls-Royce</td>\n",
       "      <td>Wraith</td>\n",
       "      <td>2015</td>\n",
       "      <td>premium unleaded (required)</td>\n",
       "      <td>624.0</td>\n",
       "      <td>12.0</td>\n",
       "      <td>AUTOMATIC</td>\n",
       "      <td>rear wheel drive</td>\n",
       "      <td>2.0</td>\n",
       "      <td>Exotic,Luxury,High-Performance</td>\n",
       "      <td>Large</td>\n",
       "      <td>Coupe</td>\n",
       "      <td>21</td>\n",
       "      <td>13</td>\n",
       "      <td>86</td>\n",
       "      <td>294025</td>\n",
       "    </tr>\n",
       "    <tr>\n",
       "      <th>11450</th>\n",
       "      <td>Rolls-Royce</td>\n",
       "      <td>Wraith</td>\n",
       "      <td>2016</td>\n",
       "      <td>premium unleaded (required)</td>\n",
       "      <td>624.0</td>\n",
       "      <td>12.0</td>\n",
       "      <td>AUTOMATIC</td>\n",
       "      <td>rear wheel drive</td>\n",
       "      <td>2.0</td>\n",
       "      <td>Exotic,Luxury,High-Performance</td>\n",
       "      <td>Large</td>\n",
       "      <td>Coupe</td>\n",
       "      <td>21</td>\n",
       "      <td>13</td>\n",
       "      <td>86</td>\n",
       "      <td>304350</td>\n",
       "    </tr>\n",
       "  </tbody>\n",
       "</table>\n",
       "<p>300 rows × 16 columns</p>\n",
       "</div>"
      ],
      "text/plain": [
       "               Make   Model  Year             Engine Fuel Type  Engine HP  \\\n",
       "460         Ferrari    456M  2001  premium unleaded (required)      442.0   \n",
       "461         Ferrari    456M  2001  premium unleaded (required)      442.0   \n",
       "462         Ferrari    456M  2002  premium unleaded (required)      442.0   \n",
       "463         Ferrari    456M  2002  premium unleaded (required)      442.0   \n",
       "464         Ferrari    456M  2003  premium unleaded (required)      442.0   \n",
       "...             ...     ...   ...                          ...        ...   \n",
       "11394  Aston Martin  Virage  2012  premium unleaded (required)      490.0   \n",
       "11395  Aston Martin  Virage  2012  premium unleaded (required)      490.0   \n",
       "11448   Rolls-Royce  Wraith  2014  premium unleaded (required)      624.0   \n",
       "11449   Rolls-Royce  Wraith  2015  premium unleaded (required)      624.0   \n",
       "11450   Rolls-Royce  Wraith  2016  premium unleaded (required)      624.0   \n",
       "\n",
       "       Engine Cylinders Transmission Type     Driven_Wheels  Number of Doors  \\\n",
       "460                12.0         AUTOMATIC  rear wheel drive              2.0   \n",
       "461                12.0            MANUAL  rear wheel drive              2.0   \n",
       "462                12.0         AUTOMATIC  rear wheel drive              2.0   \n",
       "463                12.0            MANUAL  rear wheel drive              2.0   \n",
       "464                12.0         AUTOMATIC  rear wheel drive              2.0   \n",
       "...                 ...               ...               ...              ...   \n",
       "11394              12.0         AUTOMATIC  rear wheel drive              2.0   \n",
       "11395              12.0         AUTOMATIC  rear wheel drive              2.0   \n",
       "11448              12.0         AUTOMATIC  rear wheel drive              2.0   \n",
       "11449              12.0         AUTOMATIC  rear wheel drive              2.0   \n",
       "11450              12.0         AUTOMATIC  rear wheel drive              2.0   \n",
       "\n",
       "                      Market Category Vehicle Size Vehicle Style  highway MPG  \\\n",
       "460           Exotic,High-Performance      Compact         Coupe           14   \n",
       "461           Exotic,High-Performance      Compact         Coupe           15   \n",
       "462           Exotic,High-Performance      Compact         Coupe           14   \n",
       "463           Exotic,High-Performance      Compact         Coupe           15   \n",
       "464           Exotic,High-Performance      Compact         Coupe           14   \n",
       "...                               ...          ...           ...          ...   \n",
       "11394         Exotic,High-Performance      Midsize         Coupe           18   \n",
       "11395         Exotic,High-Performance      Midsize   Convertible           18   \n",
       "11448  Exotic,Luxury,High-Performance        Large         Coupe           21   \n",
       "11449  Exotic,Luxury,High-Performance        Large         Coupe           21   \n",
       "11450  Exotic,Luxury,High-Performance        Large         Coupe           21   \n",
       "\n",
       "       city mpg  Popularity    MSRP  \n",
       "460           9        2774  223970  \n",
       "461           9        2774  219775  \n",
       "462           9        2774  228625  \n",
       "463           9        2774  224585  \n",
       "464           9        2774  228625  \n",
       "...         ...         ...     ...  \n",
       "11394        13         259  208295  \n",
       "11395        13         259  223295  \n",
       "11448        13          86  284900  \n",
       "11449        13          86  294025  \n",
       "11450        13          86  304350  \n",
       "\n",
       "[300 rows x 16 columns]"
      ]
     },
     "execution_count": 21,
     "metadata": {},
     "output_type": "execute_result"
    }
   ],
   "source": [
    "data.loc[data['Engine Cylinders']>max_limit]"
   ]
  },
  {
   "cell_type": "code",
   "execution_count": 22,
   "id": "d92faf70",
   "metadata": {},
   "outputs": [
    {
     "data": {
      "text/html": [
       "<div>\n",
       "<style scoped>\n",
       "    .dataframe tbody tr th:only-of-type {\n",
       "        vertical-align: middle;\n",
       "    }\n",
       "\n",
       "    .dataframe tbody tr th {\n",
       "        vertical-align: top;\n",
       "    }\n",
       "\n",
       "    .dataframe thead th {\n",
       "        text-align: right;\n",
       "    }\n",
       "</style>\n",
       "<table border=\"1\" class=\"dataframe\">\n",
       "  <thead>\n",
       "    <tr style=\"text-align: right;\">\n",
       "      <th></th>\n",
       "      <th>Make</th>\n",
       "      <th>Model</th>\n",
       "      <th>Year</th>\n",
       "      <th>Engine Fuel Type</th>\n",
       "      <th>Engine HP</th>\n",
       "      <th>Engine Cylinders</th>\n",
       "      <th>Transmission Type</th>\n",
       "      <th>Driven_Wheels</th>\n",
       "      <th>Number of Doors</th>\n",
       "      <th>Market Category</th>\n",
       "      <th>Vehicle Size</th>\n",
       "      <th>Vehicle Style</th>\n",
       "      <th>highway MPG</th>\n",
       "      <th>city mpg</th>\n",
       "      <th>Popularity</th>\n",
       "      <th>MSRP</th>\n",
       "    </tr>\n",
       "  </thead>\n",
       "  <tbody>\n",
       "    <tr>\n",
       "      <th>1680</th>\n",
       "      <td>Mercedes-Benz</td>\n",
       "      <td>B-Class Electric Drive</td>\n",
       "      <td>2015</td>\n",
       "      <td>electric</td>\n",
       "      <td>177.0</td>\n",
       "      <td>0.0</td>\n",
       "      <td>DIRECT_DRIVE</td>\n",
       "      <td>front wheel drive</td>\n",
       "      <td>4.0</td>\n",
       "      <td>Hatchback,Luxury</td>\n",
       "      <td>Compact</td>\n",
       "      <td>4dr Hatchback</td>\n",
       "      <td>82</td>\n",
       "      <td>85</td>\n",
       "      <td>617</td>\n",
       "      <td>41450</td>\n",
       "    </tr>\n",
       "    <tr>\n",
       "      <th>1681</th>\n",
       "      <td>Mercedes-Benz</td>\n",
       "      <td>B-Class Electric Drive</td>\n",
       "      <td>2016</td>\n",
       "      <td>electric</td>\n",
       "      <td>177.0</td>\n",
       "      <td>0.0</td>\n",
       "      <td>DIRECT_DRIVE</td>\n",
       "      <td>front wheel drive</td>\n",
       "      <td>4.0</td>\n",
       "      <td>Hatchback,Luxury</td>\n",
       "      <td>Compact</td>\n",
       "      <td>4dr Hatchback</td>\n",
       "      <td>82</td>\n",
       "      <td>85</td>\n",
       "      <td>617</td>\n",
       "      <td>41450</td>\n",
       "    </tr>\n",
       "    <tr>\n",
       "      <th>1682</th>\n",
       "      <td>Mercedes-Benz</td>\n",
       "      <td>B-Class Electric Drive</td>\n",
       "      <td>2017</td>\n",
       "      <td>electric</td>\n",
       "      <td>177.0</td>\n",
       "      <td>0.0</td>\n",
       "      <td>DIRECT_DRIVE</td>\n",
       "      <td>front wheel drive</td>\n",
       "      <td>4.0</td>\n",
       "      <td>Hatchback,Luxury</td>\n",
       "      <td>Compact</td>\n",
       "      <td>4dr Hatchback</td>\n",
       "      <td>82</td>\n",
       "      <td>85</td>\n",
       "      <td>617</td>\n",
       "      <td>39900</td>\n",
       "    </tr>\n",
       "    <tr>\n",
       "      <th>5790</th>\n",
       "      <td>BMW</td>\n",
       "      <td>i3</td>\n",
       "      <td>2015</td>\n",
       "      <td>electric</td>\n",
       "      <td>170.0</td>\n",
       "      <td>0.0</td>\n",
       "      <td>DIRECT_DRIVE</td>\n",
       "      <td>rear wheel drive</td>\n",
       "      <td>4.0</td>\n",
       "      <td>Hatchback,Luxury</td>\n",
       "      <td>Compact</td>\n",
       "      <td>4dr Hatchback</td>\n",
       "      <td>111</td>\n",
       "      <td>137</td>\n",
       "      <td>3916</td>\n",
       "      <td>42400</td>\n",
       "    </tr>\n",
       "    <tr>\n",
       "      <th>5791</th>\n",
       "      <td>BMW</td>\n",
       "      <td>i3</td>\n",
       "      <td>2016</td>\n",
       "      <td>electric</td>\n",
       "      <td>170.0</td>\n",
       "      <td>0.0</td>\n",
       "      <td>DIRECT_DRIVE</td>\n",
       "      <td>rear wheel drive</td>\n",
       "      <td>4.0</td>\n",
       "      <td>Hatchback,Luxury</td>\n",
       "      <td>Compact</td>\n",
       "      <td>4dr Hatchback</td>\n",
       "      <td>111</td>\n",
       "      <td>137</td>\n",
       "      <td>3916</td>\n",
       "      <td>42400</td>\n",
       "    </tr>\n",
       "    <tr>\n",
       "      <th>5792</th>\n",
       "      <td>BMW</td>\n",
       "      <td>i3</td>\n",
       "      <td>2017</td>\n",
       "      <td>electric</td>\n",
       "      <td>170.0</td>\n",
       "      <td>0.0</td>\n",
       "      <td>DIRECT_DRIVE</td>\n",
       "      <td>rear wheel drive</td>\n",
       "      <td>4.0</td>\n",
       "      <td>Hatchback,Luxury</td>\n",
       "      <td>Compact</td>\n",
       "      <td>4dr Hatchback</td>\n",
       "      <td>111</td>\n",
       "      <td>137</td>\n",
       "      <td>3916</td>\n",
       "      <td>42400</td>\n",
       "    </tr>\n",
       "    <tr>\n",
       "      <th>5793</th>\n",
       "      <td>BMW</td>\n",
       "      <td>i3</td>\n",
       "      <td>2017</td>\n",
       "      <td>electric</td>\n",
       "      <td>170.0</td>\n",
       "      <td>0.0</td>\n",
       "      <td>DIRECT_DRIVE</td>\n",
       "      <td>rear wheel drive</td>\n",
       "      <td>4.0</td>\n",
       "      <td>Hatchback,Luxury</td>\n",
       "      <td>Compact</td>\n",
       "      <td>4dr Hatchback</td>\n",
       "      <td>106</td>\n",
       "      <td>129</td>\n",
       "      <td>3916</td>\n",
       "      <td>43600</td>\n",
       "    </tr>\n",
       "    <tr>\n",
       "      <th>9867</th>\n",
       "      <td>Chevrolet</td>\n",
       "      <td>Spark EV</td>\n",
       "      <td>2014</td>\n",
       "      <td>electric</td>\n",
       "      <td>140.0</td>\n",
       "      <td>0.0</td>\n",
       "      <td>DIRECT_DRIVE</td>\n",
       "      <td>front wheel drive</td>\n",
       "      <td>4.0</td>\n",
       "      <td>Hatchback</td>\n",
       "      <td>Compact</td>\n",
       "      <td>4dr Hatchback</td>\n",
       "      <td>109</td>\n",
       "      <td>128</td>\n",
       "      <td>1385</td>\n",
       "      <td>26685</td>\n",
       "    </tr>\n",
       "    <tr>\n",
       "      <th>9868</th>\n",
       "      <td>Chevrolet</td>\n",
       "      <td>Spark EV</td>\n",
       "      <td>2014</td>\n",
       "      <td>electric</td>\n",
       "      <td>140.0</td>\n",
       "      <td>0.0</td>\n",
       "      <td>DIRECT_DRIVE</td>\n",
       "      <td>front wheel drive</td>\n",
       "      <td>4.0</td>\n",
       "      <td>Hatchback</td>\n",
       "      <td>Compact</td>\n",
       "      <td>4dr Hatchback</td>\n",
       "      <td>109</td>\n",
       "      <td>128</td>\n",
       "      <td>1385</td>\n",
       "      <td>27010</td>\n",
       "    </tr>\n",
       "    <tr>\n",
       "      <th>9869</th>\n",
       "      <td>Chevrolet</td>\n",
       "      <td>Spark EV</td>\n",
       "      <td>2015</td>\n",
       "      <td>electric</td>\n",
       "      <td>140.0</td>\n",
       "      <td>0.0</td>\n",
       "      <td>DIRECT_DRIVE</td>\n",
       "      <td>front wheel drive</td>\n",
       "      <td>4.0</td>\n",
       "      <td>Hatchback</td>\n",
       "      <td>Compact</td>\n",
       "      <td>4dr Hatchback</td>\n",
       "      <td>109</td>\n",
       "      <td>128</td>\n",
       "      <td>1385</td>\n",
       "      <td>25170</td>\n",
       "    </tr>\n",
       "    <tr>\n",
       "      <th>9870</th>\n",
       "      <td>Chevrolet</td>\n",
       "      <td>Spark EV</td>\n",
       "      <td>2015</td>\n",
       "      <td>electric</td>\n",
       "      <td>140.0</td>\n",
       "      <td>0.0</td>\n",
       "      <td>DIRECT_DRIVE</td>\n",
       "      <td>front wheel drive</td>\n",
       "      <td>4.0</td>\n",
       "      <td>Hatchback</td>\n",
       "      <td>Compact</td>\n",
       "      <td>4dr Hatchback</td>\n",
       "      <td>109</td>\n",
       "      <td>128</td>\n",
       "      <td>1385</td>\n",
       "      <td>25560</td>\n",
       "    </tr>\n",
       "    <tr>\n",
       "      <th>9871</th>\n",
       "      <td>Chevrolet</td>\n",
       "      <td>Spark EV</td>\n",
       "      <td>2016</td>\n",
       "      <td>electric</td>\n",
       "      <td>140.0</td>\n",
       "      <td>0.0</td>\n",
       "      <td>DIRECT_DRIVE</td>\n",
       "      <td>front wheel drive</td>\n",
       "      <td>4.0</td>\n",
       "      <td>Hatchback</td>\n",
       "      <td>Compact</td>\n",
       "      <td>4dr Hatchback</td>\n",
       "      <td>109</td>\n",
       "      <td>128</td>\n",
       "      <td>1385</td>\n",
       "      <td>25510</td>\n",
       "    </tr>\n",
       "    <tr>\n",
       "      <th>9872</th>\n",
       "      <td>Chevrolet</td>\n",
       "      <td>Spark EV</td>\n",
       "      <td>2016</td>\n",
       "      <td>electric</td>\n",
       "      <td>140.0</td>\n",
       "      <td>0.0</td>\n",
       "      <td>DIRECT_DRIVE</td>\n",
       "      <td>front wheel drive</td>\n",
       "      <td>4.0</td>\n",
       "      <td>Hatchback</td>\n",
       "      <td>Compact</td>\n",
       "      <td>4dr Hatchback</td>\n",
       "      <td>109</td>\n",
       "      <td>128</td>\n",
       "      <td>1385</td>\n",
       "      <td>25120</td>\n",
       "    </tr>\n",
       "  </tbody>\n",
       "</table>\n",
       "</div>"
      ],
      "text/plain": [
       "               Make                   Model  Year Engine Fuel Type  Engine HP  \\\n",
       "1680  Mercedes-Benz  B-Class Electric Drive  2015         electric      177.0   \n",
       "1681  Mercedes-Benz  B-Class Electric Drive  2016         electric      177.0   \n",
       "1682  Mercedes-Benz  B-Class Electric Drive  2017         electric      177.0   \n",
       "5790            BMW                      i3  2015         electric      170.0   \n",
       "5791            BMW                      i3  2016         electric      170.0   \n",
       "5792            BMW                      i3  2017         electric      170.0   \n",
       "5793            BMW                      i3  2017         electric      170.0   \n",
       "9867      Chevrolet                Spark EV  2014         electric      140.0   \n",
       "9868      Chevrolet                Spark EV  2014         electric      140.0   \n",
       "9869      Chevrolet                Spark EV  2015         electric      140.0   \n",
       "9870      Chevrolet                Spark EV  2015         electric      140.0   \n",
       "9871      Chevrolet                Spark EV  2016         electric      140.0   \n",
       "9872      Chevrolet                Spark EV  2016         electric      140.0   \n",
       "\n",
       "      Engine Cylinders Transmission Type      Driven_Wheels  Number of Doors  \\\n",
       "1680               0.0      DIRECT_DRIVE  front wheel drive              4.0   \n",
       "1681               0.0      DIRECT_DRIVE  front wheel drive              4.0   \n",
       "1682               0.0      DIRECT_DRIVE  front wheel drive              4.0   \n",
       "5790               0.0      DIRECT_DRIVE   rear wheel drive              4.0   \n",
       "5791               0.0      DIRECT_DRIVE   rear wheel drive              4.0   \n",
       "5792               0.0      DIRECT_DRIVE   rear wheel drive              4.0   \n",
       "5793               0.0      DIRECT_DRIVE   rear wheel drive              4.0   \n",
       "9867               0.0      DIRECT_DRIVE  front wheel drive              4.0   \n",
       "9868               0.0      DIRECT_DRIVE  front wheel drive              4.0   \n",
       "9869               0.0      DIRECT_DRIVE  front wheel drive              4.0   \n",
       "9870               0.0      DIRECT_DRIVE  front wheel drive              4.0   \n",
       "9871               0.0      DIRECT_DRIVE  front wheel drive              4.0   \n",
       "9872               0.0      DIRECT_DRIVE  front wheel drive              4.0   \n",
       "\n",
       "       Market Category Vehicle Size  Vehicle Style  highway MPG  city mpg  \\\n",
       "1680  Hatchback,Luxury      Compact  4dr Hatchback           82        85   \n",
       "1681  Hatchback,Luxury      Compact  4dr Hatchback           82        85   \n",
       "1682  Hatchback,Luxury      Compact  4dr Hatchback           82        85   \n",
       "5790  Hatchback,Luxury      Compact  4dr Hatchback          111       137   \n",
       "5791  Hatchback,Luxury      Compact  4dr Hatchback          111       137   \n",
       "5792  Hatchback,Luxury      Compact  4dr Hatchback          111       137   \n",
       "5793  Hatchback,Luxury      Compact  4dr Hatchback          106       129   \n",
       "9867         Hatchback      Compact  4dr Hatchback          109       128   \n",
       "9868         Hatchback      Compact  4dr Hatchback          109       128   \n",
       "9869         Hatchback      Compact  4dr Hatchback          109       128   \n",
       "9870         Hatchback      Compact  4dr Hatchback          109       128   \n",
       "9871         Hatchback      Compact  4dr Hatchback          109       128   \n",
       "9872         Hatchback      Compact  4dr Hatchback          109       128   \n",
       "\n",
       "      Popularity   MSRP  \n",
       "1680         617  41450  \n",
       "1681         617  41450  \n",
       "1682         617  39900  \n",
       "5790        3916  42400  \n",
       "5791        3916  42400  \n",
       "5792        3916  42400  \n",
       "5793        3916  43600  \n",
       "9867        1385  26685  \n",
       "9868        1385  27010  \n",
       "9869        1385  25170  \n",
       "9870        1385  25560  \n",
       "9871        1385  25510  \n",
       "9872        1385  25120  "
      ]
     },
     "execution_count": 22,
     "metadata": {},
     "output_type": "execute_result"
    }
   ],
   "source": [
    "data.loc[data['Engine Cylinders']<min_limit]"
   ]
  },
  {
   "cell_type": "code",
   "execution_count": 23,
   "id": "3ac2c56b",
   "metadata": {},
   "outputs": [],
   "source": [
    "data.loc[data['Engine Cylinders']>max_limit,'Engine Cylinders']=np.median(data['Engine Cylinders'])"
   ]
  },
  {
   "cell_type": "code",
   "execution_count": 24,
   "id": "ac868629",
   "metadata": {},
   "outputs": [],
   "source": [
    "data.loc[data['Engine Cylinders']<min_limit,'Engine Cylinders']=np.median(data['Engine Cylinders'])"
   ]
  },
  {
   "cell_type": "code",
   "execution_count": 25,
   "id": "0a355fe0",
   "metadata": {},
   "outputs": [
    {
     "data": {
      "text/plain": [
       "128.0"
      ]
     },
     "execution_count": 25,
     "metadata": {},
     "output_type": "execute_result"
    }
   ],
   "source": [
    "# Calculate the IQR\n",
    "IQR =stats.iqr(data['Engine HP'],interpolation='midpoint')\n",
    "IQR"
   ]
  },
  {
   "cell_type": "code",
   "execution_count": 26,
   "id": "68e4a7c1",
   "metadata": {},
   "outputs": [
    {
     "data": {
      "text/plain": [
       "(0.0, 512.0)"
      ]
     },
     "execution_count": 26,
     "metadata": {},
     "output_type": "execute_result"
    }
   ],
   "source": [
    "Q1=data['Engine HP'].quantile(0.25)\n",
    "Q3=data['Engine HP'].quantile(0.75)\n",
    "# Define the lower and upper thresholds\n",
    "min_limit=Q1-1.5*IQR\n",
    "max_limit=Q3+1.5*IQR\n",
    "min_limit,max_limit"
   ]
  },
  {
   "cell_type": "code",
   "execution_count": 27,
   "id": "d5cbc34d",
   "metadata": {},
   "outputs": [
    {
     "data": {
      "text/html": [
       "<div>\n",
       "<style scoped>\n",
       "    .dataframe tbody tr th:only-of-type {\n",
       "        vertical-align: middle;\n",
       "    }\n",
       "\n",
       "    .dataframe tbody tr th {\n",
       "        vertical-align: top;\n",
       "    }\n",
       "\n",
       "    .dataframe thead th {\n",
       "        text-align: right;\n",
       "    }\n",
       "</style>\n",
       "<table border=\"1\" class=\"dataframe\">\n",
       "  <thead>\n",
       "    <tr style=\"text-align: right;\">\n",
       "      <th></th>\n",
       "      <th>Make</th>\n",
       "      <th>Model</th>\n",
       "      <th>Year</th>\n",
       "      <th>Engine Fuel Type</th>\n",
       "      <th>Engine HP</th>\n",
       "      <th>Engine Cylinders</th>\n",
       "      <th>Transmission Type</th>\n",
       "      <th>Driven_Wheels</th>\n",
       "      <th>Number of Doors</th>\n",
       "      <th>Market Category</th>\n",
       "      <th>Vehicle Size</th>\n",
       "      <th>Vehicle Style</th>\n",
       "      <th>highway MPG</th>\n",
       "      <th>city mpg</th>\n",
       "      <th>Popularity</th>\n",
       "      <th>MSRP</th>\n",
       "    </tr>\n",
       "  </thead>\n",
       "  <tbody>\n",
       "    <tr>\n",
       "      <th>466</th>\n",
       "      <td>Ferrari</td>\n",
       "      <td>458 Italia</td>\n",
       "      <td>2013</td>\n",
       "      <td>premium unleaded (required)</td>\n",
       "      <td>562.0</td>\n",
       "      <td>8.0</td>\n",
       "      <td>AUTOMATED_MANUAL</td>\n",
       "      <td>rear wheel drive</td>\n",
       "      <td>2.0</td>\n",
       "      <td>Exotic,High-Performance</td>\n",
       "      <td>Compact</td>\n",
       "      <td>Convertible</td>\n",
       "      <td>17</td>\n",
       "      <td>13</td>\n",
       "      <td>2774</td>\n",
       "      <td>257412</td>\n",
       "    </tr>\n",
       "    <tr>\n",
       "      <th>467</th>\n",
       "      <td>Ferrari</td>\n",
       "      <td>458 Italia</td>\n",
       "      <td>2013</td>\n",
       "      <td>premium unleaded (required)</td>\n",
       "      <td>562.0</td>\n",
       "      <td>8.0</td>\n",
       "      <td>AUTOMATED_MANUAL</td>\n",
       "      <td>rear wheel drive</td>\n",
       "      <td>2.0</td>\n",
       "      <td>Exotic,High-Performance</td>\n",
       "      <td>Compact</td>\n",
       "      <td>Coupe</td>\n",
       "      <td>17</td>\n",
       "      <td>13</td>\n",
       "      <td>2774</td>\n",
       "      <td>233509</td>\n",
       "    </tr>\n",
       "    <tr>\n",
       "      <th>468</th>\n",
       "      <td>Ferrari</td>\n",
       "      <td>458 Italia</td>\n",
       "      <td>2014</td>\n",
       "      <td>premium unleaded (required)</td>\n",
       "      <td>562.0</td>\n",
       "      <td>8.0</td>\n",
       "      <td>AUTOMATED_MANUAL</td>\n",
       "      <td>rear wheel drive</td>\n",
       "      <td>2.0</td>\n",
       "      <td>Exotic,High-Performance</td>\n",
       "      <td>Compact</td>\n",
       "      <td>Coupe</td>\n",
       "      <td>17</td>\n",
       "      <td>13</td>\n",
       "      <td>2774</td>\n",
       "      <td>233509</td>\n",
       "    </tr>\n",
       "    <tr>\n",
       "      <th>469</th>\n",
       "      <td>Ferrari</td>\n",
       "      <td>458 Italia</td>\n",
       "      <td>2014</td>\n",
       "      <td>premium unleaded (required)</td>\n",
       "      <td>597.0</td>\n",
       "      <td>8.0</td>\n",
       "      <td>AUTOMATED_MANUAL</td>\n",
       "      <td>rear wheel drive</td>\n",
       "      <td>2.0</td>\n",
       "      <td>Exotic,High-Performance</td>\n",
       "      <td>Compact</td>\n",
       "      <td>Coupe</td>\n",
       "      <td>17</td>\n",
       "      <td>13</td>\n",
       "      <td>2774</td>\n",
       "      <td>288000</td>\n",
       "    </tr>\n",
       "    <tr>\n",
       "      <th>470</th>\n",
       "      <td>Ferrari</td>\n",
       "      <td>458 Italia</td>\n",
       "      <td>2014</td>\n",
       "      <td>premium unleaded (required)</td>\n",
       "      <td>562.0</td>\n",
       "      <td>8.0</td>\n",
       "      <td>AUTOMATED_MANUAL</td>\n",
       "      <td>rear wheel drive</td>\n",
       "      <td>2.0</td>\n",
       "      <td>Exotic,High-Performance</td>\n",
       "      <td>Compact</td>\n",
       "      <td>Convertible</td>\n",
       "      <td>17</td>\n",
       "      <td>13</td>\n",
       "      <td>2774</td>\n",
       "      <td>257412</td>\n",
       "    </tr>\n",
       "    <tr>\n",
       "      <th>...</th>\n",
       "      <td>...</td>\n",
       "      <td>...</td>\n",
       "      <td>...</td>\n",
       "      <td>...</td>\n",
       "      <td>...</td>\n",
       "      <td>...</td>\n",
       "      <td>...</td>\n",
       "      <td>...</td>\n",
       "      <td>...</td>\n",
       "      <td>...</td>\n",
       "      <td>...</td>\n",
       "      <td>...</td>\n",
       "      <td>...</td>\n",
       "      <td>...</td>\n",
       "      <td>...</td>\n",
       "      <td>...</td>\n",
       "    </tr>\n",
       "    <tr>\n",
       "      <th>11509</th>\n",
       "      <td>BMW</td>\n",
       "      <td>X5 M</td>\n",
       "      <td>2016</td>\n",
       "      <td>premium unleaded (required)</td>\n",
       "      <td>567.0</td>\n",
       "      <td>8.0</td>\n",
       "      <td>AUTOMATIC</td>\n",
       "      <td>all wheel drive</td>\n",
       "      <td>4.0</td>\n",
       "      <td>Crossover,Factory Tuner,Luxury,High-Performance</td>\n",
       "      <td>Midsize</td>\n",
       "      <td>4dr SUV</td>\n",
       "      <td>19</td>\n",
       "      <td>14</td>\n",
       "      <td>3916</td>\n",
       "      <td>98800</td>\n",
       "    </tr>\n",
       "    <tr>\n",
       "      <th>11510</th>\n",
       "      <td>BMW</td>\n",
       "      <td>X5 M</td>\n",
       "      <td>2017</td>\n",
       "      <td>premium unleaded (required)</td>\n",
       "      <td>567.0</td>\n",
       "      <td>8.0</td>\n",
       "      <td>AUTOMATIC</td>\n",
       "      <td>all wheel drive</td>\n",
       "      <td>4.0</td>\n",
       "      <td>Crossover,Factory Tuner,Luxury,High-Performance</td>\n",
       "      <td>Midsize</td>\n",
       "      <td>4dr SUV</td>\n",
       "      <td>19</td>\n",
       "      <td>14</td>\n",
       "      <td>3916</td>\n",
       "      <td>98800</td>\n",
       "    </tr>\n",
       "    <tr>\n",
       "      <th>11523</th>\n",
       "      <td>BMW</td>\n",
       "      <td>X6 M</td>\n",
       "      <td>2015</td>\n",
       "      <td>premium unleaded (required)</td>\n",
       "      <td>567.0</td>\n",
       "      <td>8.0</td>\n",
       "      <td>AUTOMATIC</td>\n",
       "      <td>all wheel drive</td>\n",
       "      <td>4.0</td>\n",
       "      <td>Crossover,Factory Tuner,Luxury,High-Performance</td>\n",
       "      <td>Midsize</td>\n",
       "      <td>4dr SUV</td>\n",
       "      <td>19</td>\n",
       "      <td>14</td>\n",
       "      <td>3916</td>\n",
       "      <td>102100</td>\n",
       "    </tr>\n",
       "    <tr>\n",
       "      <th>11524</th>\n",
       "      <td>BMW</td>\n",
       "      <td>X6 M</td>\n",
       "      <td>2016</td>\n",
       "      <td>premium unleaded (required)</td>\n",
       "      <td>567.0</td>\n",
       "      <td>8.0</td>\n",
       "      <td>AUTOMATIC</td>\n",
       "      <td>all wheel drive</td>\n",
       "      <td>4.0</td>\n",
       "      <td>Crossover,Factory Tuner,Luxury,High-Performance</td>\n",
       "      <td>Midsize</td>\n",
       "      <td>4dr SUV</td>\n",
       "      <td>19</td>\n",
       "      <td>14</td>\n",
       "      <td>3916</td>\n",
       "      <td>102200</td>\n",
       "    </tr>\n",
       "    <tr>\n",
       "      <th>11525</th>\n",
       "      <td>BMW</td>\n",
       "      <td>X6 M</td>\n",
       "      <td>2017</td>\n",
       "      <td>premium unleaded (required)</td>\n",
       "      <td>567.0</td>\n",
       "      <td>8.0</td>\n",
       "      <td>AUTOMATIC</td>\n",
       "      <td>all wheel drive</td>\n",
       "      <td>4.0</td>\n",
       "      <td>Crossover,Factory Tuner,Luxury,High-Performance</td>\n",
       "      <td>Midsize</td>\n",
       "      <td>4dr SUV</td>\n",
       "      <td>19</td>\n",
       "      <td>14</td>\n",
       "      <td>3916</td>\n",
       "      <td>102200</td>\n",
       "    </tr>\n",
       "  </tbody>\n",
       "</table>\n",
       "<p>415 rows × 16 columns</p>\n",
       "</div>"
      ],
      "text/plain": [
       "          Make       Model  Year             Engine Fuel Type  Engine HP  \\\n",
       "466    Ferrari  458 Italia  2013  premium unleaded (required)      562.0   \n",
       "467    Ferrari  458 Italia  2013  premium unleaded (required)      562.0   \n",
       "468    Ferrari  458 Italia  2014  premium unleaded (required)      562.0   \n",
       "469    Ferrari  458 Italia  2014  premium unleaded (required)      597.0   \n",
       "470    Ferrari  458 Italia  2014  premium unleaded (required)      562.0   \n",
       "...        ...         ...   ...                          ...        ...   \n",
       "11509      BMW        X5 M  2016  premium unleaded (required)      567.0   \n",
       "11510      BMW        X5 M  2017  premium unleaded (required)      567.0   \n",
       "11523      BMW        X6 M  2015  premium unleaded (required)      567.0   \n",
       "11524      BMW        X6 M  2016  premium unleaded (required)      567.0   \n",
       "11525      BMW        X6 M  2017  premium unleaded (required)      567.0   \n",
       "\n",
       "       Engine Cylinders Transmission Type     Driven_Wheels  Number of Doors  \\\n",
       "466                 8.0  AUTOMATED_MANUAL  rear wheel drive              2.0   \n",
       "467                 8.0  AUTOMATED_MANUAL  rear wheel drive              2.0   \n",
       "468                 8.0  AUTOMATED_MANUAL  rear wheel drive              2.0   \n",
       "469                 8.0  AUTOMATED_MANUAL  rear wheel drive              2.0   \n",
       "470                 8.0  AUTOMATED_MANUAL  rear wheel drive              2.0   \n",
       "...                 ...               ...               ...              ...   \n",
       "11509               8.0         AUTOMATIC   all wheel drive              4.0   \n",
       "11510               8.0         AUTOMATIC   all wheel drive              4.0   \n",
       "11523               8.0         AUTOMATIC   all wheel drive              4.0   \n",
       "11524               8.0         AUTOMATIC   all wheel drive              4.0   \n",
       "11525               8.0         AUTOMATIC   all wheel drive              4.0   \n",
       "\n",
       "                                       Market Category Vehicle Size  \\\n",
       "466                            Exotic,High-Performance      Compact   \n",
       "467                            Exotic,High-Performance      Compact   \n",
       "468                            Exotic,High-Performance      Compact   \n",
       "469                            Exotic,High-Performance      Compact   \n",
       "470                            Exotic,High-Performance      Compact   \n",
       "...                                                ...          ...   \n",
       "11509  Crossover,Factory Tuner,Luxury,High-Performance      Midsize   \n",
       "11510  Crossover,Factory Tuner,Luxury,High-Performance      Midsize   \n",
       "11523  Crossover,Factory Tuner,Luxury,High-Performance      Midsize   \n",
       "11524  Crossover,Factory Tuner,Luxury,High-Performance      Midsize   \n",
       "11525  Crossover,Factory Tuner,Luxury,High-Performance      Midsize   \n",
       "\n",
       "      Vehicle Style  highway MPG  city mpg  Popularity    MSRP  \n",
       "466     Convertible           17        13        2774  257412  \n",
       "467           Coupe           17        13        2774  233509  \n",
       "468           Coupe           17        13        2774  233509  \n",
       "469           Coupe           17        13        2774  288000  \n",
       "470     Convertible           17        13        2774  257412  \n",
       "...             ...          ...       ...         ...     ...  \n",
       "11509       4dr SUV           19        14        3916   98800  \n",
       "11510       4dr SUV           19        14        3916   98800  \n",
       "11523       4dr SUV           19        14        3916  102100  \n",
       "11524       4dr SUV           19        14        3916  102200  \n",
       "11525       4dr SUV           19        14        3916  102200  \n",
       "\n",
       "[415 rows x 16 columns]"
      ]
     },
     "execution_count": 27,
     "metadata": {},
     "output_type": "execute_result"
    }
   ],
   "source": [
    "data.loc[data['Engine HP']>max_limit]"
   ]
  },
  {
   "cell_type": "code",
   "execution_count": 28,
   "id": "6d6aae53",
   "metadata": {},
   "outputs": [],
   "source": [
    "data.loc[data['Engine HP']>max_limit,'Engine HP']=np.median(data['Engine HP'])"
   ]
  },
  {
   "cell_type": "code",
   "execution_count": 29,
   "id": "e1497d3c",
   "metadata": {},
   "outputs": [
    {
     "data": {
      "text/plain": [
       "8.0"
      ]
     },
     "execution_count": 29,
     "metadata": {},
     "output_type": "execute_result"
    }
   ],
   "source": [
    "# Calculate the IQR\n",
    "IQR =stats.iqr(data['highway MPG'],interpolation='midpoint')\n",
    "IQR"
   ]
  },
  {
   "cell_type": "code",
   "execution_count": 30,
   "id": "2e55e625",
   "metadata": {},
   "outputs": [
    {
     "data": {
      "text/plain": [
       "(10.0, 42.0)"
      ]
     },
     "execution_count": 30,
     "metadata": {},
     "output_type": "execute_result"
    }
   ],
   "source": [
    "Q1=data['highway MPG'].quantile(0.25)\n",
    "Q3=data['highway MPG'].quantile(0.75)\n",
    "# Define the lower and upper thresholds\n",
    "min_limit=Q1-1.5*IQR\n",
    "max_limit=Q3+1.5*IQR\n",
    "min_limit,max_limit"
   ]
  },
  {
   "cell_type": "code",
   "execution_count": 31,
   "id": "f8b5a820",
   "metadata": {},
   "outputs": [],
   "source": [
    "data.loc[data['highway MPG']>max_limit,'highway MPG']=np.median(data['highway MPG'])"
   ]
  },
  {
   "cell_type": "code",
   "execution_count": 32,
   "id": "d3751b91",
   "metadata": {},
   "outputs": [
    {
     "data": {
      "text/plain": [
       "6.0"
      ]
     },
     "execution_count": 32,
     "metadata": {},
     "output_type": "execute_result"
    }
   ],
   "source": [
    "# Calculate the IQR\n",
    "IQR =stats.iqr(data['city mpg'],interpolation='midpoint')\n",
    "IQR"
   ]
  },
  {
   "cell_type": "code",
   "execution_count": 33,
   "id": "815b1029",
   "metadata": {},
   "outputs": [
    {
     "data": {
      "text/plain": [
       "(7.0, 31.0)"
      ]
     },
     "execution_count": 33,
     "metadata": {},
     "output_type": "execute_result"
    }
   ],
   "source": [
    "Q1=data['city mpg'].quantile(0.25)\n",
    "Q3=data['city mpg'].quantile(0.75)\n",
    "# Define the lower and upper thresholds\n",
    "min_limit=Q1-1.5*IQR\n",
    "max_limit=Q3+1.5*IQR\n",
    "min_limit,max_limit"
   ]
  },
  {
   "cell_type": "code",
   "execution_count": 34,
   "id": "768cec9c",
   "metadata": {},
   "outputs": [],
   "source": [
    "data.loc[data['city mpg']>max_limit,'city mpg']=np.median(data['city mpg'])"
   ]
  },
  {
   "cell_type": "code",
   "execution_count": 35,
   "id": "15504d39",
   "metadata": {},
   "outputs": [
    {
     "data": {
      "text/plain": [
       "6.0"
      ]
     },
     "execution_count": 35,
     "metadata": {},
     "output_type": "execute_result"
    }
   ],
   "source": [
    "# Calculate the IQR\n",
    "IQR =stats.iqr(data['Year'],interpolation='midpoint')\n",
    "IQR"
   ]
  },
  {
   "cell_type": "code",
   "execution_count": 36,
   "id": "ef5683ab",
   "metadata": {},
   "outputs": [
    {
     "data": {
      "text/plain": [
       "(2001.0, 2025.0)"
      ]
     },
     "execution_count": 36,
     "metadata": {},
     "output_type": "execute_result"
    }
   ],
   "source": [
    "Q1=data['Year'].quantile(0.25)\n",
    "Q3=data['Year'].quantile(0.75)\n",
    "# Define the lower and upper thresholds\n",
    "min_limit=Q1-1.5*IQR\n",
    "max_limit=Q3+1.5*IQR\n",
    "min_limit,max_limit"
   ]
  },
  {
   "cell_type": "code",
   "execution_count": 37,
   "id": "55f112c0",
   "metadata": {},
   "outputs": [],
   "source": [
    "# Remove outliers\n",
    "data.drop(data[(data['Year']<min_limit)].index,inplace=True)"
   ]
  },
  {
   "cell_type": "code",
   "execution_count": 38,
   "id": "97cee1e5",
   "metadata": {},
   "outputs": [
    {
     "data": {
      "text/plain": [
       "(7441, 16)"
      ]
     },
     "execution_count": 38,
     "metadata": {},
     "output_type": "execute_result"
    }
   ],
   "source": [
    "data.shape"
   ]
  },
  {
   "cell_type": "code",
   "execution_count": 39,
   "id": "e0188512",
   "metadata": {},
   "outputs": [],
   "source": [
    "# Remove outliers\n",
    "data.drop(data[(data['Popularity']>max_limit)].index,inplace=True)"
   ]
  },
  {
   "cell_type": "code",
   "execution_count": 40,
   "id": "ad28cb80",
   "metadata": {},
   "outputs": [
    {
     "data": {
      "text/plain": [
       "(5748, 16)"
      ]
     },
     "execution_count": 40,
     "metadata": {},
     "output_type": "execute_result"
    }
   ],
   "source": [
    "data.shape"
   ]
  },
  {
   "cell_type": "code",
   "execution_count": 42,
   "id": "0c8bb7c0",
   "metadata": {},
   "outputs": [],
   "source": [
    "num_data= data[['Year','Engine HP','Engine Cylinders','highway MPG','city mpg','Popularity']]"
   ]
  },
  {
   "cell_type": "markdown",
   "id": "8701ba52",
   "metadata": {},
   "source": [
    "PLOTS AFTER OUTLIER REMOVAL\n"
   ]
  },
  {
   "cell_type": "code",
   "execution_count": 43,
   "id": "55ddfbd9",
   "metadata": {},
   "outputs": [
    {
     "data": {
      "image/png": "[encoded data removed]",
      "text/plain": [
       "<Figure size 640x480 with 1 Axes>"
      ]
     },
     "metadata": {},
     "output_type": "display_data"
    },
    {
     "data": {
      "image/png": "[encoded data removed]",
      "text/plain": [
       "<Figure size 640x480 with 1 Axes>"
      ]
     },
     "metadata": {},
     "output_type": "display_data"
    },
    {
     "data": {
      "image/png": "[encoded data removed]",
      "text/plain": [
       "<Figure size 640x480 with 1 Axes>"
      ]
     },
     "metadata": {},
     "output_type": "display_data"
    },
    {
     "data": {
      "image/png": "[encoded data removed]",
      "text/plain": [
       "<Figure size 640x480 with 1 Axes>"
      ]
     },
     "metadata": {},
     "output_type": "display_data"
    },
    {
     "data": {
      "image/png": "[encoded data removed]",
      "text/plain": [
       "<Figure size 640x480 with 1 Axes>"
      ]
     },
     "metadata": {},
     "output_type": "display_data"
    },
    {
     "data": {
      "image/png": "[encoded data removed]",
      "text/plain": [
       "<Figure size 640x480 with 1 Axes>"
      ]
     },
     "metadata": {},
     "output_type": "display_data"
    }
   ],
   "source": [
    "for i in num_data:\n",
    "  sns.boxplot(x=num_data[i])\n",
    "  plt.show()"
   ]
  },
  {
   "cell_type": "markdown",
   "id": "27d643b6",
   "metadata": {},
   "source": [
    "#New outliers occure after outlier removal but we are proceeding with this num_data"
   ]
  },
  {
   "cell_type": "markdown",
   "id": "1ca3150e",
   "metadata": {},
   "source": [
    "# LABEL ENCODING"
   ]
  },
  {
   "cell_type": "code",
   "execution_count": 44,
   "id": "d28e6fb3",
   "metadata": {},
   "outputs": [
    {
     "data": {
      "text/html": [
       "<div>\n",
       "<style scoped>\n",
       "    .dataframe tbody tr th:only-of-type {\n",
       "        vertical-align: middle;\n",
       "    }\n",
       "\n",
       "    .dataframe tbody tr th {\n",
       "        vertical-align: top;\n",
       "    }\n",
       "\n",
       "    .dataframe thead th {\n",
       "        text-align: right;\n",
       "    }\n",
       "</style>\n",
       "<table border=\"1\" class=\"dataframe\">\n",
       "  <thead>\n",
       "    <tr style=\"text-align: right;\">\n",
       "      <th></th>\n",
       "      <th>Make</th>\n",
       "      <th>Model</th>\n",
       "      <th>Engine Fuel Type</th>\n",
       "      <th>Transmission Type</th>\n",
       "      <th>Driven_Wheels</th>\n",
       "      <th>Market Category</th>\n",
       "      <th>Vehicle Size</th>\n",
       "      <th>Vehicle Style</th>\n",
       "    </tr>\n",
       "  </thead>\n",
       "  <tbody>\n",
       "    <tr>\n",
       "      <th>0</th>\n",
       "      <td>BMW</td>\n",
       "      <td>1 Series M</td>\n",
       "      <td>premium unleaded (required)</td>\n",
       "      <td>MANUAL</td>\n",
       "      <td>rear wheel drive</td>\n",
       "      <td>Factory Tuner,Luxury,High-Performance</td>\n",
       "      <td>Compact</td>\n",
       "      <td>Coupe</td>\n",
       "    </tr>\n",
       "    <tr>\n",
       "      <th>1</th>\n",
       "      <td>BMW</td>\n",
       "      <td>1 Series</td>\n",
       "      <td>premium unleaded (required)</td>\n",
       "      <td>MANUAL</td>\n",
       "      <td>rear wheel drive</td>\n",
       "      <td>Luxury,Performance</td>\n",
       "      <td>Compact</td>\n",
       "      <td>Convertible</td>\n",
       "    </tr>\n",
       "    <tr>\n",
       "      <th>2</th>\n",
       "      <td>BMW</td>\n",
       "      <td>1 Series</td>\n",
       "      <td>premium unleaded (required)</td>\n",
       "      <td>MANUAL</td>\n",
       "      <td>rear wheel drive</td>\n",
       "      <td>Luxury,High-Performance</td>\n",
       "      <td>Compact</td>\n",
       "      <td>Coupe</td>\n",
       "    </tr>\n",
       "    <tr>\n",
       "      <th>3</th>\n",
       "      <td>BMW</td>\n",
       "      <td>1 Series</td>\n",
       "      <td>premium unleaded (required)</td>\n",
       "      <td>MANUAL</td>\n",
       "      <td>rear wheel drive</td>\n",
       "      <td>Luxury,Performance</td>\n",
       "      <td>Compact</td>\n",
       "      <td>Coupe</td>\n",
       "    </tr>\n",
       "    <tr>\n",
       "      <th>4</th>\n",
       "      <td>BMW</td>\n",
       "      <td>1 Series</td>\n",
       "      <td>premium unleaded (required)</td>\n",
       "      <td>MANUAL</td>\n",
       "      <td>rear wheel drive</td>\n",
       "      <td>Luxury</td>\n",
       "      <td>Compact</td>\n",
       "      <td>Convertible</td>\n",
       "    </tr>\n",
       "    <tr>\n",
       "      <th>...</th>\n",
       "      <td>...</td>\n",
       "      <td>...</td>\n",
       "      <td>...</td>\n",
       "      <td>...</td>\n",
       "      <td>...</td>\n",
       "      <td>...</td>\n",
       "      <td>...</td>\n",
       "      <td>...</td>\n",
       "    </tr>\n",
       "    <tr>\n",
       "      <th>11909</th>\n",
       "      <td>Acura</td>\n",
       "      <td>ZDX</td>\n",
       "      <td>premium unleaded (required)</td>\n",
       "      <td>AUTOMATIC</td>\n",
       "      <td>all wheel drive</td>\n",
       "      <td>Crossover,Hatchback,Luxury</td>\n",
       "      <td>Midsize</td>\n",
       "      <td>4dr Hatchback</td>\n",
       "    </tr>\n",
       "    <tr>\n",
       "      <th>11910</th>\n",
       "      <td>Acura</td>\n",
       "      <td>ZDX</td>\n",
       "      <td>premium unleaded (required)</td>\n",
       "      <td>AUTOMATIC</td>\n",
       "      <td>all wheel drive</td>\n",
       "      <td>Crossover,Hatchback,Luxury</td>\n",
       "      <td>Midsize</td>\n",
       "      <td>4dr Hatchback</td>\n",
       "    </tr>\n",
       "    <tr>\n",
       "      <th>11911</th>\n",
       "      <td>Acura</td>\n",
       "      <td>ZDX</td>\n",
       "      <td>premium unleaded (required)</td>\n",
       "      <td>AUTOMATIC</td>\n",
       "      <td>all wheel drive</td>\n",
       "      <td>Crossover,Hatchback,Luxury</td>\n",
       "      <td>Midsize</td>\n",
       "      <td>4dr Hatchback</td>\n",
       "    </tr>\n",
       "    <tr>\n",
       "      <th>11912</th>\n",
       "      <td>Acura</td>\n",
       "      <td>ZDX</td>\n",
       "      <td>premium unleaded (recommended)</td>\n",
       "      <td>AUTOMATIC</td>\n",
       "      <td>all wheel drive</td>\n",
       "      <td>Crossover,Hatchback,Luxury</td>\n",
       "      <td>Midsize</td>\n",
       "      <td>4dr Hatchback</td>\n",
       "    </tr>\n",
       "    <tr>\n",
       "      <th>11913</th>\n",
       "      <td>Lincoln</td>\n",
       "      <td>Zephyr</td>\n",
       "      <td>regular unleaded</td>\n",
       "      <td>AUTOMATIC</td>\n",
       "      <td>front wheel drive</td>\n",
       "      <td>Luxury</td>\n",
       "      <td>Midsize</td>\n",
       "      <td>Sedan</td>\n",
       "    </tr>\n",
       "  </tbody>\n",
       "</table>\n",
       "<p>8084 rows × 8 columns</p>\n",
       "</div>"
      ],
      "text/plain": [
       "          Make       Model                Engine Fuel Type Transmission Type  \\\n",
       "0          BMW  1 Series M     premium unleaded (required)            MANUAL   \n",
       "1          BMW    1 Series     premium unleaded (required)            MANUAL   \n",
       "2          BMW    1 Series     premium unleaded (required)            MANUAL   \n",
       "3          BMW    1 Series     premium unleaded (required)            MANUAL   \n",
       "4          BMW    1 Series     premium unleaded (required)            MANUAL   \n",
       "...        ...         ...                             ...               ...   \n",
       "11909    Acura         ZDX     premium unleaded (required)         AUTOMATIC   \n",
       "11910    Acura         ZDX     premium unleaded (required)         AUTOMATIC   \n",
       "11911    Acura         ZDX     premium unleaded (required)         AUTOMATIC   \n",
       "11912    Acura         ZDX  premium unleaded (recommended)         AUTOMATIC   \n",
       "11913  Lincoln      Zephyr                regular unleaded         AUTOMATIC   \n",
       "\n",
       "           Driven_Wheels                        Market Category Vehicle Size  \\\n",
       "0       rear wheel drive  Factory Tuner,Luxury,High-Performance      Compact   \n",
       "1       rear wheel drive                     Luxury,Performance      Compact   \n",
       "2       rear wheel drive                Luxury,High-Performance      Compact   \n",
       "3       rear wheel drive                     Luxury,Performance      Compact   \n",
       "4       rear wheel drive                                 Luxury      Compact   \n",
       "...                  ...                                    ...          ...   \n",
       "11909    all wheel drive             Crossover,Hatchback,Luxury      Midsize   \n",
       "11910    all wheel drive             Crossover,Hatchback,Luxury      Midsize   \n",
       "11911    all wheel drive             Crossover,Hatchback,Luxury      Midsize   \n",
       "11912    all wheel drive             Crossover,Hatchback,Luxury      Midsize   \n",
       "11913  front wheel drive                                 Luxury      Midsize   \n",
       "\n",
       "       Vehicle Style  \n",
       "0              Coupe  \n",
       "1        Convertible  \n",
       "2              Coupe  \n",
       "3              Coupe  \n",
       "4        Convertible  \n",
       "...              ...  \n",
       "11909  4dr Hatchback  \n",
       "11910  4dr Hatchback  \n",
       "11911  4dr Hatchback  \n",
       "11912  4dr Hatchback  \n",
       "11913          Sedan  \n",
       "\n",
       "[8084 rows x 8 columns]"
      ]
     },
     "execution_count": 44,
     "metadata": {},
     "output_type": "execute_result"
    }
   ],
   "source": [
    "cat_data"
   ]
  },
  {
   "cell_type": "code",
   "execution_count": 45,
   "id": "27d33813",
   "metadata": {},
   "outputs": [],
   "source": [
    "from sklearn.preprocessing import LabelEncoder"
   ]
  },
  {
   "cell_type": "code",
   "execution_count": 46,
   "id": "da4caa91",
   "metadata": {},
   "outputs": [],
   "source": [
    "le=LabelEncoder()\n",
    "data['Make']=le.fit_transform(data['Make'])\n",
    "data['Model']=le.fit_transform(data['Model'])\n",
    "data['Engine Fuel Type']=le.fit_transform(data['Engine Fuel Type'])\n",
    "data['Transmission Type']=le.fit_transform(data['Transmission Type'])\n",
    "data['Driven_Wheels']=le.fit_transform(data['Driven_Wheels'])\n",
    "data['Market Category']=le.fit_transform(data['Market Category'])\n",
    "data['Vehicle Size']=le.fit_transform(data['Vehicle Size'])\n",
    "data['Vehicle Style']=le.fit_transform(data['Vehicle Style'])\n"
   ]
  },
  {
   "cell_type": "code",
   "execution_count": 47,
   "id": "fbe002f8",
   "metadata": {},
   "outputs": [],
   "source": [
    "# split data into feature and target\n",
    "x = data.drop(['MSRP'], axis=1)\n",
    "y = data['MSRP']"
   ]
  },
  {
   "cell_type": "markdown",
   "id": "ffffeac9",
   "metadata": {},
   "source": [
    "SCALLING"
   ]
  },
  {
   "cell_type": "code",
   "execution_count": 48,
   "id": "0d2d014d",
   "metadata": {},
   "outputs": [
    {
     "data": {
      "text/html": [
       "<div>\n",
       "<style scoped>\n",
       "    .dataframe tbody tr th:only-of-type {\n",
       "        vertical-align: middle;\n",
       "    }\n",
       "\n",
       "    .dataframe tbody tr th {\n",
       "        vertical-align: top;\n",
       "    }\n",
       "\n",
       "    .dataframe thead th {\n",
       "        text-align: right;\n",
       "    }\n",
       "</style>\n",
       "<table border=\"1\" class=\"dataframe\">\n",
       "  <thead>\n",
       "    <tr style=\"text-align: right;\">\n",
       "      <th></th>\n",
       "      <th>Make</th>\n",
       "      <th>Model</th>\n",
       "      <th>Year</th>\n",
       "      <th>Engine Fuel Type</th>\n",
       "      <th>Engine HP</th>\n",
       "      <th>Engine Cylinders</th>\n",
       "      <th>Transmission Type</th>\n",
       "      <th>Driven_Wheels</th>\n",
       "      <th>Number of Doors</th>\n",
       "      <th>Market Category</th>\n",
       "      <th>Vehicle Size</th>\n",
       "      <th>Vehicle Style</th>\n",
       "      <th>highway MPG</th>\n",
       "      <th>city mpg</th>\n",
       "      <th>Popularity</th>\n",
       "    </tr>\n",
       "  </thead>\n",
       "  <tbody>\n",
       "    <tr>\n",
       "      <th>0</th>\n",
       "      <td>0.25</td>\n",
       "      <td>0.000000</td>\n",
       "      <td>1.000</td>\n",
       "      <td>0.714286</td>\n",
       "      <td>0.197248</td>\n",
       "      <td>0.2</td>\n",
       "      <td>1.000000</td>\n",
       "      <td>1.000000</td>\n",
       "      <td>0.0</td>\n",
       "      <td>0.984375</td>\n",
       "      <td>0.0</td>\n",
       "      <td>0.400000</td>\n",
       "      <td>0.766667</td>\n",
       "      <td>0.782609</td>\n",
       "      <td>0.407075</td>\n",
       "    </tr>\n",
       "    <tr>\n",
       "      <th>1</th>\n",
       "      <td>0.25</td>\n",
       "      <td>0.000000</td>\n",
       "      <td>1.000</td>\n",
       "      <td>0.714286</td>\n",
       "      <td>0.197248</td>\n",
       "      <td>0.2</td>\n",
       "      <td>1.000000</td>\n",
       "      <td>1.000000</td>\n",
       "      <td>0.0</td>\n",
       "      <td>0.984375</td>\n",
       "      <td>0.0</td>\n",
       "      <td>0.400000</td>\n",
       "      <td>0.766667</td>\n",
       "      <td>0.782609</td>\n",
       "      <td>0.407075</td>\n",
       "    </tr>\n",
       "    <tr>\n",
       "      <th>2</th>\n",
       "      <td>0.25</td>\n",
       "      <td>0.000000</td>\n",
       "      <td>1.000</td>\n",
       "      <td>0.714286</td>\n",
       "      <td>0.197248</td>\n",
       "      <td>0.2</td>\n",
       "      <td>1.000000</td>\n",
       "      <td>1.000000</td>\n",
       "      <td>0.0</td>\n",
       "      <td>0.984375</td>\n",
       "      <td>0.0</td>\n",
       "      <td>0.400000</td>\n",
       "      <td>0.766667</td>\n",
       "      <td>0.782609</td>\n",
       "      <td>0.407075</td>\n",
       "    </tr>\n",
       "    <tr>\n",
       "      <th>3</th>\n",
       "      <td>0.20</td>\n",
       "      <td>0.004167</td>\n",
       "      <td>0.875</td>\n",
       "      <td>0.571429</td>\n",
       "      <td>0.252294</td>\n",
       "      <td>0.2</td>\n",
       "      <td>0.333333</td>\n",
       "      <td>0.666667</td>\n",
       "      <td>1.0</td>\n",
       "      <td>0.593750</td>\n",
       "      <td>1.0</td>\n",
       "      <td>0.933333</td>\n",
       "      <td>0.800000</td>\n",
       "      <td>0.652174</td>\n",
       "      <td>0.503737</td>\n",
       "    </tr>\n",
       "    <tr>\n",
       "      <th>4</th>\n",
       "      <td>0.20</td>\n",
       "      <td>0.004167</td>\n",
       "      <td>0.875</td>\n",
       "      <td>0.571429</td>\n",
       "      <td>0.252294</td>\n",
       "      <td>0.2</td>\n",
       "      <td>0.333333</td>\n",
       "      <td>0.666667</td>\n",
       "      <td>1.0</td>\n",
       "      <td>0.593750</td>\n",
       "      <td>1.0</td>\n",
       "      <td>0.933333</td>\n",
       "      <td>0.800000</td>\n",
       "      <td>0.652174</td>\n",
       "      <td>0.503737</td>\n",
       "    </tr>\n",
       "  </tbody>\n",
       "</table>\n",
       "</div>"
      ],
      "text/plain": [
       "   Make     Model   Year  Engine Fuel Type  Engine HP  Engine Cylinders  \\\n",
       "0  0.25  0.000000  1.000          0.714286   0.197248               0.2   \n",
       "1  0.25  0.000000  1.000          0.714286   0.197248               0.2   \n",
       "2  0.25  0.000000  1.000          0.714286   0.197248               0.2   \n",
       "3  0.20  0.004167  0.875          0.571429   0.252294               0.2   \n",
       "4  0.20  0.004167  0.875          0.571429   0.252294               0.2   \n",
       "\n",
       "   Transmission Type  Driven_Wheels  Number of Doors  Market Category  \\\n",
       "0           1.000000       1.000000              0.0         0.984375   \n",
       "1           1.000000       1.000000              0.0         0.984375   \n",
       "2           1.000000       1.000000              0.0         0.984375   \n",
       "3           0.333333       0.666667              1.0         0.593750   \n",
       "4           0.333333       0.666667              1.0         0.593750   \n",
       "\n",
       "   Vehicle Size  Vehicle Style  highway MPG  city mpg  Popularity  \n",
       "0           0.0       0.400000     0.766667  0.782609    0.407075  \n",
       "1           0.0       0.400000     0.766667  0.782609    0.407075  \n",
       "2           0.0       0.400000     0.766667  0.782609    0.407075  \n",
       "3           1.0       0.933333     0.800000  0.652174    0.503737  \n",
       "4           1.0       0.933333     0.800000  0.652174    0.503737  "
      ]
     },
     "execution_count": 48,
     "metadata": {},
     "output_type": "execute_result"
    }
   ],
   "source": [
    "from sklearn.preprocessing import MinMaxScaler\n",
    "scaler = MinMaxScaler()\n",
    "data_scaled = pd.DataFrame(scaler.fit_transform(x), columns=x.columns)\n",
    "data_scaled.head()"
   ]
  },
  {
   "cell_type": "code",
   "execution_count": 49,
   "id": "5bf2d062",
   "metadata": {},
   "outputs": [],
   "source": [
    "x=data_scaled"
   ]
  },
  {
   "cell_type": "code",
   "execution_count": 50,
   "id": "20299009",
   "metadata": {},
   "outputs": [],
   "source": [
    "# Split the data into training and testing sets\n",
    "from sklearn.model_selection import train_test_split\n",
    "x_train, x_test, y_train, y_test = train_test_split(x, y, test_size=0.2, random_state=42)"
   ]
  },
  {
   "cell_type": "markdown",
   "id": "6f59755f",
   "metadata": {},
   "source": [
    "# LINEAR REGRESSION"
   ]
  },
  {
   "cell_type": "code",
   "execution_count": 51,
   "id": "cb7d69d2",
   "metadata": {},
   "outputs": [
    {
     "data": {
      "text/plain": [
       "array([ 74207.39883654,  40613.95239797,  83534.1312137 , ...,\n",
       "       160059.28815891,  48611.3510131 ,  95430.97877803])"
      ]
     },
     "execution_count": 51,
     "metadata": {},
     "output_type": "execute_result"
    }
   ],
   "source": [
    "from sklearn import linear_model\n",
    "lr=linear_model.LinearRegression()\n",
    "model=lr.fit(x_train,y_train)\n",
    "y_train_pred = model.predict(x_train)\n",
    "y_pred = model.predict(x_test)\n",
    "y_pred"
   ]
  },
  {
   "cell_type": "code",
   "execution_count": 52,
   "id": "9db045f7",
   "metadata": {},
   "outputs": [],
   "source": [
    "#checking the model accuracy"
   ]
  },
  {
   "cell_type": "markdown",
   "id": "2bd5869c",
   "metadata": {},
   "source": [
    "Mean absolute error"
   ]
  },
  {
   "cell_type": "code",
   "execution_count": 53,
   "id": "b9e69179",
   "metadata": {},
   "outputs": [
    {
     "name": "stdout",
     "output_type": "stream",
     "text": [
      "MAE =  33275.84520373276\n"
     ]
    }
   ],
   "source": [
    "from sklearn.metrics import mean_absolute_error\n",
    "print('MAE = ',mean_absolute_error(y_train,y_train_pred))"
   ]
  },
  {
   "cell_type": "code",
   "execution_count": 54,
   "id": "0b4b42cf",
   "metadata": {},
   "outputs": [],
   "source": [
    "#Mean sqaured error"
   ]
  },
  {
   "cell_type": "code",
   "execution_count": 55,
   "id": "31bbe815",
   "metadata": {},
   "outputs": [
    {
     "name": "stdout",
     "output_type": "stream",
     "text": [
      "MSE =  3295665839.5526953\n"
     ]
    }
   ],
   "source": [
    "from sklearn.metrics import mean_squared_error\n",
    "print('MSE = ',mean_squared_error(y_test,y_pred))"
   ]
  },
  {
   "cell_type": "code",
   "execution_count": 56,
   "id": "e728c948",
   "metadata": {},
   "outputs": [],
   "source": [
    "#R2 score"
   ]
  },
  {
   "cell_type": "code",
   "execution_count": 57,
   "id": "1676ef52",
   "metadata": {},
   "outputs": [
    {
     "name": "stdout",
     "output_type": "stream",
     "text": [
      "r2 score =  0.27032157545728563\n"
     ]
    }
   ],
   "source": [
    "from sklearn.metrics import r2_score\n",
    "print('r2 score = ',r2_score(y_test,y_pred))"
   ]
  },
  {
   "cell_type": "markdown",
   "id": "a652d8be",
   "metadata": {},
   "source": [
    "# Lasso regression method"
   ]
  },
  {
   "cell_type": "code",
   "execution_count": 58,
   "id": "be54eabf",
   "metadata": {},
   "outputs": [],
   "source": [
    "from sklearn.model_selection import train_test_split\n",
    "x_train,x_test,y_train,y_test = train_test_split(x,y,test_size=.25,random_state=42)\n",
    "from sklearn.linear_model import Lasso\n",
    "lasso=Lasso(alpha=1)\n",
    "model=lasso.fit(x_train,y_train)\n",
    "y_pred=model.predict(x_test)"
   ]
  },
  {
   "cell_type": "code",
   "execution_count": 59,
   "id": "8c93934e",
   "metadata": {},
   "outputs": [
    {
     "name": "stdout",
     "output_type": "stream",
     "text": [
      "MSE =  3102296173.167486\n",
      "MAE =  31172.632020592813\n",
      "r2 score =  0.2823326295556903\n"
     ]
    }
   ],
   "source": [
    "from sklearn.metrics import mean_squared_error,r2_score,mean_absolute_error\n",
    "print('MSE = ',mean_squared_error(y_test,y_pred))\n",
    "print('MAE = ',mean_absolute_error(y_test,y_pred))\n",
    "print('r2 score = ',r2_score(y_test,y_pred))"
   ]
  },
  {
   "cell_type": "markdown",
   "id": "abc75d40",
   "metadata": {},
   "source": [
    "# Decision tree regressor"
   ]
  },
  {
   "cell_type": "code",
   "execution_count": 60,
   "id": "9074191a",
   "metadata": {},
   "outputs": [],
   "source": [
    "from sklearn.tree import DecisionTreeRegressor"
   ]
  },
  {
   "cell_type": "code",
   "execution_count": 61,
   "id": "c987b354",
   "metadata": {},
   "outputs": [],
   "source": [
    "decreg=DecisionTreeRegressor(random_state=42)\n",
    "model=decreg.fit(x_train,y_train)\n",
    "y_pred=model.predict(x_test)"
   ]
  },
  {
   "cell_type": "code",
   "execution_count": 62,
   "id": "61f76646",
   "metadata": {},
   "outputs": [
    {
     "name": "stdout",
     "output_type": "stream",
     "text": [
      "MSE =  784625033.5028039\n",
      "r2 score =  0.8184893533218645\n"
     ]
    }
   ],
   "source": [
    "from sklearn.metrics import mean_squared_error,r2_score\n",
    "print('MSE = ',mean_squared_error(y_test,y_pred))\n",
    "print('r2 score = ',r2_score(y_test,y_pred))"
   ]
  },
  {
   "cell_type": "code",
   "execution_count": 63,
   "id": "ab4a3435",
   "metadata": {},
   "outputs": [],
   "source": [
    "#Tunning"
   ]
  },
  {
   "cell_type": "code",
   "execution_count": 64,
   "id": "5210ce06",
   "metadata": {},
   "outputs": [
    {
     "data": {
      "text/plain": [
       "RandomizedSearchCV(cv=5, estimator=DecisionTreeRegressor(),\n",
       "                   param_distributions={'max_depth': <scipy.stats._distn_infrastructure.rv_discrete_frozen object at 0x0000024BF77F7F10>,\n",
       "                                        'min_samples_leaf': <scipy.stats._distn_infrastructure.rv_discrete_frozen object at 0x0000024BF77F7310>,\n",
       "                                        'min_samples_split': <scipy.stats._distn_infrastructure.rv_discrete_frozen object at 0x0000024BF7760190>},\n",
       "                   scoring='neg_mean_squared_error')"
      ]
     },
     "execution_count": 64,
     "metadata": {},
     "output_type": "execute_result"
    }
   ],
   "source": [
    "from sklearn.model_selection import RandomizedSearchCV\n",
    "from sklearn.tree import DecisionTreeRegressor\n",
    "from scipy.stats import randint\n",
    "\n",
    "# Define the parameter grid\n",
    "param_grid = {\n",
    "    'max_depth': randint(1, 10),  # Randomly select max_depth from 1 to 10\n",
    "    'min_samples_split': randint(2, 20),  # Randomly select min_samples_split from 2 to 20\n",
    "    'min_samples_leaf': randint(1, 10),  # Randomly select min_samples_leaf from 1 to 10\n",
    "}\n",
    "\n",
    "# Create the Decision Tree Regressor\n",
    "tree = DecisionTreeRegressor()\n",
    "\n",
    "# Perform random search cross-validation\n",
    "random_search = RandomizedSearchCV(tree, param_distributions=param_grid, n_iter=10, cv=5, scoring='neg_mean_squared_error')\n",
    "random_search.fit(x, y)  # X and y are your input features and target variable\n",
    "\n"
   ]
  },
  {
   "cell_type": "code",
   "execution_count": 65,
   "id": "0b8db657",
   "metadata": {},
   "outputs": [
    {
     "name": "stdout",
     "output_type": "stream",
     "text": [
      "Best Parameters:  {'max_depth': 4, 'min_samples_leaf': 7, 'min_samples_split': 2}\n",
      "Best MSE Score:  3304911289.1765013\n"
     ]
    }
   ],
   "source": [
    "# Print the best parameters and best MSE score\n",
    "print(\"Best Parameters: \", random_search.best_params_)\n",
    "print(\"Best MSE Score: \", -random_search.best_score_)"
   ]
  },
  {
   "cell_type": "markdown",
   "id": "d80cce00",
   "metadata": {},
   "source": [
    "# As we can see the decision tree regressor gives a better r2 score 0.818 and min MSE as acompared to lasso and linear regression before tunning so we can choose decison tree regressor model."
   ]
  }
 ],
 "metadata": {
  "kernelspec": {
   "display_name": "Python 3 (ipykernel)",
   "language": "python",
   "name": "python3"
  },
  "language_info": {
   "codemirror_mode": {
    "name": "ipython",
    "version": 3
   },
   "file_extension": ".py",
   "mimetype": "text/x-python",
   "name": "python",
   "nbconvert_exporter": "python",
   "pygments_lexer": "ipython3",
   "version": "3.9.13"
  }
 },
 "nbformat": 4,
 "nbformat_minor": 5
}
